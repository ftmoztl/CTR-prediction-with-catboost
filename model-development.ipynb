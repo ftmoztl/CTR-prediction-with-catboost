{
 "cells": [
  {
   "cell_type": "code",
   "execution_count": 1,
   "metadata": {},
   "outputs": [],
   "source": [
    "import pandas as pd\n",
    "import numpy as np\n",
    "import seaborn as sns\n",
    "import matplotlib.pyplot as plt\n",
    "import random"
   ]
  },
  {
   "cell_type": "code",
   "execution_count": 2,
   "metadata": {},
   "outputs": [],
   "source": [
    "dtype={'id': np.dtype(int),\n",
    "    'click': np.dtype(int),\n",
    "    'hour': np.dtype(str),\n",
    "    'C1': np.dtype(str),\n",
    "    'banner_pos': np.dtype(str),\n",
    "    'site_id': np.dtype(str),\n",
    "    'site_domain': np.dtype(str), \n",
    "    'site_category': np.dtype(str),\n",
    "    'app_id': np.dtype(str),\n",
    "    'app_domain': np.dtype(str),\n",
    "    'app_category': np.dtype(str),\n",
    "    'device_id': np.dtype(str),\n",
    "    'device_ip': np.dtype(str),\n",
    "    'device_model': np.dtype(str),\n",
    "    'device_type': np.dtype(str),\n",
    "    'device_conn_type': np.dtype(str),\n",
    "    'C14': np.dtype(str),\n",
    "    'C15': np.dtype(str),\n",
    "    'C16': np.dtype(str),\n",
    "    'C17': np.dtype(str),\n",
    "    'C18': np.dtype(str),\n",
    "    'C19': np.dtype(str),\n",
    "    'C20': np.dtype(str),\n",
    "    'C21':np.dtype(str),\n",
    "    'hour_of_day': np.dtype(str),\n",
    "    'day_of_week': np.dtype(str),\n",
    "      }#"
   ]
  },
  {
   "cell_type": "code",
   "execution_count": 3,
   "metadata": {},
   "outputs": [],
   "source": [
    "df = pd.read_csv('/Users/fatmaoztel/Desktop/avazu-ctr-prediction/adjusted_dataset.csv',dtype=dtype,)"
   ]
  },
  {
   "cell_type": "code",
   "execution_count": 4,
   "metadata": {},
   "outputs": [
    {
     "name": "stdout",
     "output_type": "stream",
     "text": [
      "<class 'pandas.core.frame.DataFrame'>\n",
      "RangeIndex: 10000 entries, 0 to 9999\n",
      "Data columns (total 26 columns):\n",
      " #   Column            Non-Null Count  Dtype \n",
      "---  ------            --------------  ----- \n",
      " 0   id                10000 non-null  uint64\n",
      " 1   click             10000 non-null  int64 \n",
      " 2   hour              10000 non-null  object\n",
      " 3   C1                10000 non-null  object\n",
      " 4   banner_pos        10000 non-null  object\n",
      " 5   site_id           10000 non-null  object\n",
      " 6   site_domain       10000 non-null  object\n",
      " 7   site_category     10000 non-null  object\n",
      " 8   app_id            10000 non-null  object\n",
      " 9   app_domain        10000 non-null  object\n",
      " 10  app_category      10000 non-null  object\n",
      " 11  device_id         10000 non-null  object\n",
      " 12  device_ip         10000 non-null  object\n",
      " 13  device_model      10000 non-null  object\n",
      " 14  device_type       10000 non-null  object\n",
      " 15  device_conn_type  10000 non-null  object\n",
      " 16  C14               10000 non-null  object\n",
      " 17  C15               10000 non-null  object\n",
      " 18  C16               10000 non-null  object\n",
      " 19  C17               10000 non-null  object\n",
      " 20  C18               10000 non-null  object\n",
      " 21  C19               10000 non-null  object\n",
      " 22  C20               10000 non-null  object\n",
      " 23  C21               10000 non-null  object\n",
      " 24  hour_of_day       10000 non-null  object\n",
      " 25  day_of_week       10000 non-null  object\n",
      "dtypes: int64(1), object(24), uint64(1)\n",
      "memory usage: 2.0+ MB\n"
     ]
    }
   ],
   "source": [
    "df.info()"
   ]
  },
  {
   "cell_type": "code",
   "execution_count": null,
   "metadata": {},
   "outputs": [],
   "source": []
  }
 ],
 "metadata": {
  "kernelspec": {
   "display_name": "Python 3",
   "language": "python",
   "name": "python3"
  },
  "language_info": {
   "codemirror_mode": {
    "name": "ipython",
    "version": 3
   },
   "file_extension": ".py",
   "mimetype": "text/x-python",
   "name": "python",
   "nbconvert_exporter": "python",
   "pygments_lexer": "ipython3",
   "version": "3.11.2"
  },
  "orig_nbformat": 4
 },
 "nbformat": 4,
 "nbformat_minor": 2
}
