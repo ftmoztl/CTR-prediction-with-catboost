{
 "cells": [
  {
   "cell_type": "code",
   "execution_count": 8,
   "metadata": {},
   "outputs": [],
   "source": [
    "import pandas as pd\n",
    "import numpy as np\n",
    "import seaborn as sns\n",
    "import matplotlib.pyplot as plt\n",
    "import random\n",
    "\n",
    "\n",
    "from sklearn.model_selection import train_test_split\n",
    "from catboost import CatBoostClassifier"
   ]
  },
  {
   "cell_type": "code",
   "execution_count": 9,
   "metadata": {},
   "outputs": [],
   "source": [
    "dtype={'id': np.dtype(int),\n",
    "    'click': np.dtype(int),\n",
    "    'hour': np.dtype(str),\n",
    "    'C1': np.dtype(str),\n",
    "    'banner_pos': np.dtype(str),\n",
    "    'site_id': np.dtype(str),\n",
    "    'site_domain': np.dtype(str), \n",
    "    'site_category': np.dtype(str),\n",
    "    'app_id': np.dtype(str),\n",
    "    'app_domain': np.dtype(str),\n",
    "    'app_category': np.dtype(str),\n",
    "    'device_id': np.dtype(str),\n",
    "    'device_ip': np.dtype(str),\n",
    "    'device_model': np.dtype(str),\n",
    "    'device_type': np.dtype(str),\n",
    "    'device_conn_type': np.dtype(str),\n",
    "    'C14': np.dtype(str),\n",
    "    'C15': np.dtype(str),\n",
    "    'C16': np.dtype(str),\n",
    "    'C17': np.dtype(str),\n",
    "    'C18': np.dtype(str),\n",
    "    'C19': np.dtype(str),\n",
    "    'C20': np.dtype(str),\n",
    "    'C21':np.dtype(str),\n",
    "    'hour_of_day': np.dtype(str),\n",
    "    'day_of_week': np.dtype(str),\n",
    "      }#"
   ]
  },
  {
   "cell_type": "code",
   "execution_count": 10,
   "metadata": {},
   "outputs": [],
   "source": [
    "df = pd.read_csv('/Users/fatmaoztel/Desktop/avazu-ctr-prediction/adjusted_dataset.csv',dtype=dtype,)"
   ]
  },
  {
   "cell_type": "code",
   "execution_count": 11,
   "metadata": {},
   "outputs": [
    {
     "name": "stdout",
     "output_type": "stream",
     "text": [
      "<class 'pandas.core.frame.DataFrame'>\n",
      "RangeIndex: 10000 entries, 0 to 9999\n",
      "Data columns (total 26 columns):\n",
      " #   Column            Non-Null Count  Dtype \n",
      "---  ------            --------------  ----- \n",
      " 0   id                10000 non-null  uint64\n",
      " 1   click             10000 non-null  int64 \n",
      " 2   hour              10000 non-null  object\n",
      " 3   C1                10000 non-null  object\n",
      " 4   banner_pos        10000 non-null  object\n",
      " 5   site_id           10000 non-null  object\n",
      " 6   site_domain       10000 non-null  object\n",
      " 7   site_category     10000 non-null  object\n",
      " 8   app_id            10000 non-null  object\n",
      " 9   app_domain        10000 non-null  object\n",
      " 10  app_category      10000 non-null  object\n",
      " 11  device_id         10000 non-null  object\n",
      " 12  device_ip         10000 non-null  object\n",
      " 13  device_model      10000 non-null  object\n",
      " 14  device_type       10000 non-null  object\n",
      " 15  device_conn_type  10000 non-null  object\n",
      " 16  C14               10000 non-null  object\n",
      " 17  C15               10000 non-null  object\n",
      " 18  C16               10000 non-null  object\n",
      " 19  C17               10000 non-null  object\n",
      " 20  C18               10000 non-null  object\n",
      " 21  C19               10000 non-null  object\n",
      " 22  C20               10000 non-null  object\n",
      " 23  C21               10000 non-null  object\n",
      " 24  hour_of_day       10000 non-null  object\n",
      " 25  day_of_week       10000 non-null  object\n",
      "dtypes: int64(1), object(24), uint64(1)\n",
      "memory usage: 2.0+ MB\n"
     ]
    }
   ],
   "source": [
    "df.info()"
   ]
  },
  {
   "cell_type": "code",
   "execution_count": 12,
   "metadata": {},
   "outputs": [],
   "source": [
    "df.drop(columns=[\"id\", \"hour\"], inplace=True)"
   ]
  },
  {
   "cell_type": "code",
   "execution_count": 13,
   "metadata": {},
   "outputs": [
    {
     "name": "stdout",
     "output_type": "stream",
     "text": [
      "<class 'pandas.core.frame.DataFrame'>\n",
      "RangeIndex: 10000 entries, 0 to 9999\n",
      "Data columns (total 24 columns):\n",
      " #   Column            Non-Null Count  Dtype \n",
      "---  ------            --------------  ----- \n",
      " 0   click             10000 non-null  int64 \n",
      " 1   C1                10000 non-null  object\n",
      " 2   banner_pos        10000 non-null  object\n",
      " 3   site_id           10000 non-null  object\n",
      " 4   site_domain       10000 non-null  object\n",
      " 5   site_category     10000 non-null  object\n",
      " 6   app_id            10000 non-null  object\n",
      " 7   app_domain        10000 non-null  object\n",
      " 8   app_category      10000 non-null  object\n",
      " 9   device_id         10000 non-null  object\n",
      " 10  device_ip         10000 non-null  object\n",
      " 11  device_model      10000 non-null  object\n",
      " 12  device_type       10000 non-null  object\n",
      " 13  device_conn_type  10000 non-null  object\n",
      " 14  C14               10000 non-null  object\n",
      " 15  C15               10000 non-null  object\n",
      " 16  C16               10000 non-null  object\n",
      " 17  C17               10000 non-null  object\n",
      " 18  C18               10000 non-null  object\n",
      " 19  C19               10000 non-null  object\n",
      " 20  C20               10000 non-null  object\n",
      " 21  C21               10000 non-null  object\n",
      " 22  hour_of_day       10000 non-null  object\n",
      " 23  day_of_week       10000 non-null  object\n",
      "dtypes: int64(1), object(23)\n",
      "memory usage: 1.8+ MB\n"
     ]
    }
   ],
   "source": [
    "df.info()"
   ]
  },
  {
   "cell_type": "code",
   "execution_count": 14,
   "metadata": {},
   "outputs": [
    {
     "data": {
      "text/html": [
       "<div>\n",
       "<style scoped>\n",
       "    .dataframe tbody tr th:only-of-type {\n",
       "        vertical-align: middle;\n",
       "    }\n",
       "\n",
       "    .dataframe tbody tr th {\n",
       "        vertical-align: top;\n",
       "    }\n",
       "\n",
       "    .dataframe thead th {\n",
       "        text-align: right;\n",
       "    }\n",
       "</style>\n",
       "<table border=\"1\" class=\"dataframe\">\n",
       "  <thead>\n",
       "    <tr style=\"text-align: right;\">\n",
       "      <th></th>\n",
       "      <th>C1</th>\n",
       "      <th>banner_pos</th>\n",
       "      <th>site_id</th>\n",
       "      <th>site_domain</th>\n",
       "      <th>site_category</th>\n",
       "      <th>app_id</th>\n",
       "      <th>app_domain</th>\n",
       "      <th>app_category</th>\n",
       "      <th>device_id</th>\n",
       "      <th>device_ip</th>\n",
       "      <th>...</th>\n",
       "      <th>C14</th>\n",
       "      <th>C15</th>\n",
       "      <th>C16</th>\n",
       "      <th>C17</th>\n",
       "      <th>C18</th>\n",
       "      <th>C19</th>\n",
       "      <th>C20</th>\n",
       "      <th>C21</th>\n",
       "      <th>hour_of_day</th>\n",
       "      <th>day_of_week</th>\n",
       "    </tr>\n",
       "  </thead>\n",
       "  <tbody>\n",
       "    <tr>\n",
       "      <th>0</th>\n",
       "      <td>1005</td>\n",
       "      <td>0</td>\n",
       "      <td>1fbe01fe</td>\n",
       "      <td>f3845767</td>\n",
       "      <td>28905ebd</td>\n",
       "      <td>ecad2386</td>\n",
       "      <td>7801e8d9</td>\n",
       "      <td>07d7df22</td>\n",
       "      <td>a99f214a</td>\n",
       "      <td>431b3174</td>\n",
       "      <td>...</td>\n",
       "      <td>15704</td>\n",
       "      <td>320</td>\n",
       "      <td>50</td>\n",
       "      <td>1722</td>\n",
       "      <td>0</td>\n",
       "      <td>35</td>\n",
       "      <td>-1</td>\n",
       "      <td>79</td>\n",
       "      <td>0</td>\n",
       "      <td>Tuesday</td>\n",
       "    </tr>\n",
       "    <tr>\n",
       "      <th>1</th>\n",
       "      <td>1005</td>\n",
       "      <td>0</td>\n",
       "      <td>3695113d</td>\n",
       "      <td>8a9459c0</td>\n",
       "      <td>3e814130</td>\n",
       "      <td>ecad2386</td>\n",
       "      <td>7801e8d9</td>\n",
       "      <td>07d7df22</td>\n",
       "      <td>a99f214a</td>\n",
       "      <td>e7ab261c</td>\n",
       "      <td>...</td>\n",
       "      <td>20366</td>\n",
       "      <td>320</td>\n",
       "      <td>50</td>\n",
       "      <td>2333</td>\n",
       "      <td>0</td>\n",
       "      <td>39</td>\n",
       "      <td>100103</td>\n",
       "      <td>157</td>\n",
       "      <td>0</td>\n",
       "      <td>Tuesday</td>\n",
       "    </tr>\n",
       "    <tr>\n",
       "      <th>2</th>\n",
       "      <td>1005</td>\n",
       "      <td>0</td>\n",
       "      <td>543a539e</td>\n",
       "      <td>c7ca3108</td>\n",
       "      <td>3e814130</td>\n",
       "      <td>ecad2386</td>\n",
       "      <td>7801e8d9</td>\n",
       "      <td>07d7df22</td>\n",
       "      <td>a99f214a</td>\n",
       "      <td>d0aa00c7</td>\n",
       "      <td>...</td>\n",
       "      <td>20352</td>\n",
       "      <td>320</td>\n",
       "      <td>50</td>\n",
       "      <td>2333</td>\n",
       "      <td>0</td>\n",
       "      <td>39</td>\n",
       "      <td>-1</td>\n",
       "      <td>157</td>\n",
       "      <td>0</td>\n",
       "      <td>Tuesday</td>\n",
       "    </tr>\n",
       "    <tr>\n",
       "      <th>3</th>\n",
       "      <td>1005</td>\n",
       "      <td>0</td>\n",
       "      <td>1fbe01fe</td>\n",
       "      <td>f3845767</td>\n",
       "      <td>28905ebd</td>\n",
       "      <td>ecad2386</td>\n",
       "      <td>7801e8d9</td>\n",
       "      <td>07d7df22</td>\n",
       "      <td>a99f214a</td>\n",
       "      <td>ef85aaad</td>\n",
       "      <td>...</td>\n",
       "      <td>15705</td>\n",
       "      <td>320</td>\n",
       "      <td>50</td>\n",
       "      <td>1722</td>\n",
       "      <td>0</td>\n",
       "      <td>35</td>\n",
       "      <td>100084</td>\n",
       "      <td>79</td>\n",
       "      <td>0</td>\n",
       "      <td>Tuesday</td>\n",
       "    </tr>\n",
       "    <tr>\n",
       "      <th>4</th>\n",
       "      <td>1005</td>\n",
       "      <td>0</td>\n",
       "      <td>85f751fd</td>\n",
       "      <td>c4e18dd6</td>\n",
       "      <td>50e219e0</td>\n",
       "      <td>1779deee</td>\n",
       "      <td>2347f47a</td>\n",
       "      <td>f95efa07</td>\n",
       "      <td>a99f214a</td>\n",
       "      <td>ba92cd0f</td>\n",
       "      <td>...</td>\n",
       "      <td>20596</td>\n",
       "      <td>320</td>\n",
       "      <td>50</td>\n",
       "      <td>2161</td>\n",
       "      <td>0</td>\n",
       "      <td>35</td>\n",
       "      <td>-1</td>\n",
       "      <td>157</td>\n",
       "      <td>0</td>\n",
       "      <td>Tuesday</td>\n",
       "    </tr>\n",
       "    <tr>\n",
       "      <th>...</th>\n",
       "      <td>...</td>\n",
       "      <td>...</td>\n",
       "      <td>...</td>\n",
       "      <td>...</td>\n",
       "      <td>...</td>\n",
       "      <td>...</td>\n",
       "      <td>...</td>\n",
       "      <td>...</td>\n",
       "      <td>...</td>\n",
       "      <td>...</td>\n",
       "      <td>...</td>\n",
       "      <td>...</td>\n",
       "      <td>...</td>\n",
       "      <td>...</td>\n",
       "      <td>...</td>\n",
       "      <td>...</td>\n",
       "      <td>...</td>\n",
       "      <td>...</td>\n",
       "      <td>...</td>\n",
       "      <td>...</td>\n",
       "      <td>...</td>\n",
       "    </tr>\n",
       "    <tr>\n",
       "      <th>9995</th>\n",
       "      <td>1005</td>\n",
       "      <td>0</td>\n",
       "      <td>85f751fd</td>\n",
       "      <td>c4e18dd6</td>\n",
       "      <td>50e219e0</td>\n",
       "      <td>febd1138</td>\n",
       "      <td>82e27996</td>\n",
       "      <td>0f2161f8</td>\n",
       "      <td>a99f214a</td>\n",
       "      <td>8f642135</td>\n",
       "      <td>...</td>\n",
       "      <td>21611</td>\n",
       "      <td>320</td>\n",
       "      <td>50</td>\n",
       "      <td>2480</td>\n",
       "      <td>3</td>\n",
       "      <td>299</td>\n",
       "      <td>100111</td>\n",
       "      <td>61</td>\n",
       "      <td>23</td>\n",
       "      <td>Thursday</td>\n",
       "    </tr>\n",
       "    <tr>\n",
       "      <th>9996</th>\n",
       "      <td>1005</td>\n",
       "      <td>0</td>\n",
       "      <td>85f751fd</td>\n",
       "      <td>c4e18dd6</td>\n",
       "      <td>50e219e0</td>\n",
       "      <td>9c13b419</td>\n",
       "      <td>2347f47a</td>\n",
       "      <td>f95efa07</td>\n",
       "      <td>a99f214a</td>\n",
       "      <td>d30e5a48</td>\n",
       "      <td>...</td>\n",
       "      <td>23161</td>\n",
       "      <td>320</td>\n",
       "      <td>50</td>\n",
       "      <td>2667</td>\n",
       "      <td>0</td>\n",
       "      <td>47</td>\n",
       "      <td>-1</td>\n",
       "      <td>221</td>\n",
       "      <td>23</td>\n",
       "      <td>Thursday</td>\n",
       "    </tr>\n",
       "    <tr>\n",
       "      <th>9997</th>\n",
       "      <td>1005</td>\n",
       "      <td>0</td>\n",
       "      <td>85f751fd</td>\n",
       "      <td>c4e18dd6</td>\n",
       "      <td>50e219e0</td>\n",
       "      <td>9c13b419</td>\n",
       "      <td>2347f47a</td>\n",
       "      <td>f95efa07</td>\n",
       "      <td>a99f214a</td>\n",
       "      <td>9cf8ab70</td>\n",
       "      <td>...</td>\n",
       "      <td>23160</td>\n",
       "      <td>320</td>\n",
       "      <td>50</td>\n",
       "      <td>2667</td>\n",
       "      <td>0</td>\n",
       "      <td>47</td>\n",
       "      <td>-1</td>\n",
       "      <td>221</td>\n",
       "      <td>23</td>\n",
       "      <td>Thursday</td>\n",
       "    </tr>\n",
       "    <tr>\n",
       "      <th>9998</th>\n",
       "      <td>1005</td>\n",
       "      <td>1</td>\n",
       "      <td>e151e245</td>\n",
       "      <td>7e091613</td>\n",
       "      <td>f028772b</td>\n",
       "      <td>ecad2386</td>\n",
       "      <td>7801e8d9</td>\n",
       "      <td>07d7df22</td>\n",
       "      <td>a99f214a</td>\n",
       "      <td>10dcdfb1</td>\n",
       "      <td>...</td>\n",
       "      <td>23723</td>\n",
       "      <td>320</td>\n",
       "      <td>50</td>\n",
       "      <td>2716</td>\n",
       "      <td>3</td>\n",
       "      <td>47</td>\n",
       "      <td>-1</td>\n",
       "      <td>23</td>\n",
       "      <td>23</td>\n",
       "      <td>Thursday</td>\n",
       "    </tr>\n",
       "    <tr>\n",
       "      <th>9999</th>\n",
       "      <td>1005</td>\n",
       "      <td>0</td>\n",
       "      <td>1fbe01fe</td>\n",
       "      <td>f3845767</td>\n",
       "      <td>28905ebd</td>\n",
       "      <td>ecad2386</td>\n",
       "      <td>7801e8d9</td>\n",
       "      <td>07d7df22</td>\n",
       "      <td>a99f214a</td>\n",
       "      <td>372c853c</td>\n",
       "      <td>...</td>\n",
       "      <td>22257</td>\n",
       "      <td>320</td>\n",
       "      <td>50</td>\n",
       "      <td>2545</td>\n",
       "      <td>0</td>\n",
       "      <td>431</td>\n",
       "      <td>100084</td>\n",
       "      <td>221</td>\n",
       "      <td>23</td>\n",
       "      <td>Thursday</td>\n",
       "    </tr>\n",
       "  </tbody>\n",
       "</table>\n",
       "<p>10000 rows × 23 columns</p>\n",
       "</div>"
      ],
      "text/plain": [
       "        C1 banner_pos   site_id site_domain site_category    app_id  \\\n",
       "0     1005          0  1fbe01fe    f3845767      28905ebd  ecad2386   \n",
       "1     1005          0  3695113d    8a9459c0      3e814130  ecad2386   \n",
       "2     1005          0  543a539e    c7ca3108      3e814130  ecad2386   \n",
       "3     1005          0  1fbe01fe    f3845767      28905ebd  ecad2386   \n",
       "4     1005          0  85f751fd    c4e18dd6      50e219e0  1779deee   \n",
       "...    ...        ...       ...         ...           ...       ...   \n",
       "9995  1005          0  85f751fd    c4e18dd6      50e219e0  febd1138   \n",
       "9996  1005          0  85f751fd    c4e18dd6      50e219e0  9c13b419   \n",
       "9997  1005          0  85f751fd    c4e18dd6      50e219e0  9c13b419   \n",
       "9998  1005          1  e151e245    7e091613      f028772b  ecad2386   \n",
       "9999  1005          0  1fbe01fe    f3845767      28905ebd  ecad2386   \n",
       "\n",
       "     app_domain app_category device_id device_ip  ...    C14  C15 C16   C17  \\\n",
       "0      7801e8d9     07d7df22  a99f214a  431b3174  ...  15704  320  50  1722   \n",
       "1      7801e8d9     07d7df22  a99f214a  e7ab261c  ...  20366  320  50  2333   \n",
       "2      7801e8d9     07d7df22  a99f214a  d0aa00c7  ...  20352  320  50  2333   \n",
       "3      7801e8d9     07d7df22  a99f214a  ef85aaad  ...  15705  320  50  1722   \n",
       "4      2347f47a     f95efa07  a99f214a  ba92cd0f  ...  20596  320  50  2161   \n",
       "...         ...          ...       ...       ...  ...    ...  ...  ..   ...   \n",
       "9995   82e27996     0f2161f8  a99f214a  8f642135  ...  21611  320  50  2480   \n",
       "9996   2347f47a     f95efa07  a99f214a  d30e5a48  ...  23161  320  50  2667   \n",
       "9997   2347f47a     f95efa07  a99f214a  9cf8ab70  ...  23160  320  50  2667   \n",
       "9998   7801e8d9     07d7df22  a99f214a  10dcdfb1  ...  23723  320  50  2716   \n",
       "9999   7801e8d9     07d7df22  a99f214a  372c853c  ...  22257  320  50  2545   \n",
       "\n",
       "     C18  C19     C20  C21 hour_of_day day_of_week  \n",
       "0      0   35      -1   79           0     Tuesday  \n",
       "1      0   39  100103  157           0     Tuesday  \n",
       "2      0   39      -1  157           0     Tuesday  \n",
       "3      0   35  100084   79           0     Tuesday  \n",
       "4      0   35      -1  157           0     Tuesday  \n",
       "...   ..  ...     ...  ...         ...         ...  \n",
       "9995   3  299  100111   61          23    Thursday  \n",
       "9996   0   47      -1  221          23    Thursday  \n",
       "9997   0   47      -1  221          23    Thursday  \n",
       "9998   3   47      -1   23          23    Thursday  \n",
       "9999   0  431  100084  221          23    Thursday  \n",
       "\n",
       "[10000 rows x 23 columns]"
      ]
     },
     "execution_count": 14,
     "metadata": {},
     "output_type": "execute_result"
    }
   ],
   "source": [
    "X=df.drop(['click'],axis=1)\n",
    "y=df['click']\n",
    "X"
   ]
  },
  {
   "cell_type": "markdown",
   "metadata": {},
   "source": [
    "Accuracy is checked on the validation dataset, which has data in the same format as in the training dataset, but it is only used for evaluating the quality of training (it is not used for training)."
   ]
  },
  {
   "cell_type": "markdown",
   "metadata": {},
   "source": [
    "CatBoost is based on gradient boosted decision trees. During training, a set of decision trees is built consecutively. Each successive tree is built with reduced loss compared to the previous trees.*\n",
    "\n",
    "- *https://catboost.ai/en/docs/concepts/algorithm-main-stages*"
   ]
  },
  {
   "cell_type": "code",
   "execution_count": 15,
   "metadata": {},
   "outputs": [],
   "source": [
    "\n",
    "# X: Features, y: Target variable\n",
    "X_train, X_temp, y_train, y_temp = train_test_split(X, y, test_size=0.2, random_state=42) # 80% train\n",
    "X_valid, X_test, y_valid, y_test = train_test_split(X_temp, y_temp, test_size=0.5, random_state=42) # 10% test, 10% valid\n"
   ]
  },
  {
   "cell_type": "markdown",
   "metadata": {},
   "source": [
    "While the 80-10-10 split is common, it's not set in stone. For smaller datasets, you might want to allocate a larger portion to training. In some cases, you might even consider a 70-15-15 split or variations depending on your specific needs and constraints."
   ]
  },
  {
   "cell_type": "code",
   "execution_count": 15,
   "metadata": {},
   "outputs": [
    {
     "data": {
      "text/html": [
       "<div>\n",
       "<style scoped>\n",
       "    .dataframe tbody tr th:only-of-type {\n",
       "        vertical-align: middle;\n",
       "    }\n",
       "\n",
       "    .dataframe tbody tr th {\n",
       "        vertical-align: top;\n",
       "    }\n",
       "\n",
       "    .dataframe thead th {\n",
       "        text-align: right;\n",
       "    }\n",
       "</style>\n",
       "<table border=\"1\" class=\"dataframe\">\n",
       "  <thead>\n",
       "    <tr style=\"text-align: right;\">\n",
       "      <th></th>\n",
       "      <th>C1</th>\n",
       "      <th>banner_pos</th>\n",
       "      <th>site_id</th>\n",
       "      <th>site_domain</th>\n",
       "      <th>site_category</th>\n",
       "      <th>app_id</th>\n",
       "      <th>app_domain</th>\n",
       "      <th>app_category</th>\n",
       "      <th>device_id</th>\n",
       "      <th>device_ip</th>\n",
       "      <th>...</th>\n",
       "      <th>C14</th>\n",
       "      <th>C15</th>\n",
       "      <th>C16</th>\n",
       "      <th>C17</th>\n",
       "      <th>C18</th>\n",
       "      <th>C19</th>\n",
       "      <th>C20</th>\n",
       "      <th>C21</th>\n",
       "      <th>hour_of_day</th>\n",
       "      <th>day_of_week</th>\n",
       "    </tr>\n",
       "  </thead>\n",
       "  <tbody>\n",
       "    <tr>\n",
       "      <th>9254</th>\n",
       "      <td>1005</td>\n",
       "      <td>0</td>\n",
       "      <td>85f751fd</td>\n",
       "      <td>c4e18dd6</td>\n",
       "      <td>50e219e0</td>\n",
       "      <td>1cc958a2</td>\n",
       "      <td>2347f47a</td>\n",
       "      <td>f95efa07</td>\n",
       "      <td>a99f214a</td>\n",
       "      <td>2022a4c8</td>\n",
       "      <td>...</td>\n",
       "      <td>23804</td>\n",
       "      <td>320</td>\n",
       "      <td>50</td>\n",
       "      <td>2726</td>\n",
       "      <td>3</td>\n",
       "      <td>803</td>\n",
       "      <td>100148</td>\n",
       "      <td>229</td>\n",
       "      <td>5</td>\n",
       "      <td>Thursday</td>\n",
       "    </tr>\n",
       "    <tr>\n",
       "      <th>1561</th>\n",
       "      <td>1005</td>\n",
       "      <td>0</td>\n",
       "      <td>1fbe01fe</td>\n",
       "      <td>f3845767</td>\n",
       "      <td>28905ebd</td>\n",
       "      <td>ecad2386</td>\n",
       "      <td>7801e8d9</td>\n",
       "      <td>07d7df22</td>\n",
       "      <td>a99f214a</td>\n",
       "      <td>a4afe726</td>\n",
       "      <td>...</td>\n",
       "      <td>15702</td>\n",
       "      <td>320</td>\n",
       "      <td>50</td>\n",
       "      <td>1722</td>\n",
       "      <td>0</td>\n",
       "      <td>35</td>\n",
       "      <td>-1</td>\n",
       "      <td>79</td>\n",
       "      <td>10</td>\n",
       "      <td>Wednesday</td>\n",
       "    </tr>\n",
       "    <tr>\n",
       "      <th>1670</th>\n",
       "      <td>1005</td>\n",
       "      <td>0</td>\n",
       "      <td>85f751fd</td>\n",
       "      <td>c4e18dd6</td>\n",
       "      <td>50e219e0</td>\n",
       "      <td>e9739828</td>\n",
       "      <td>df32afa9</td>\n",
       "      <td>cef3e649</td>\n",
       "      <td>a99f214a</td>\n",
       "      <td>fe75d0c7</td>\n",
       "      <td>...</td>\n",
       "      <td>21769</td>\n",
       "      <td>320</td>\n",
       "      <td>50</td>\n",
       "      <td>2507</td>\n",
       "      <td>0</td>\n",
       "      <td>35</td>\n",
       "      <td>-1</td>\n",
       "      <td>157</td>\n",
       "      <td>11</td>\n",
       "      <td>Wednesday</td>\n",
       "    </tr>\n",
       "    <tr>\n",
       "      <th>6087</th>\n",
       "      <td>1005</td>\n",
       "      <td>0</td>\n",
       "      <td>93eaba74</td>\n",
       "      <td>7687a86e</td>\n",
       "      <td>3e814130</td>\n",
       "      <td>ecad2386</td>\n",
       "      <td>7801e8d9</td>\n",
       "      <td>07d7df22</td>\n",
       "      <td>a99f214a</td>\n",
       "      <td>26b8bb1b</td>\n",
       "      <td>...</td>\n",
       "      <td>17654</td>\n",
       "      <td>300</td>\n",
       "      <td>250</td>\n",
       "      <td>1994</td>\n",
       "      <td>2</td>\n",
       "      <td>39</td>\n",
       "      <td>-1</td>\n",
       "      <td>33</td>\n",
       "      <td>6</td>\n",
       "      <td>Monday</td>\n",
       "    </tr>\n",
       "    <tr>\n",
       "      <th>6669</th>\n",
       "      <td>1005</td>\n",
       "      <td>1</td>\n",
       "      <td>856e6d3f</td>\n",
       "      <td>58a89a43</td>\n",
       "      <td>f028772b</td>\n",
       "      <td>ecad2386</td>\n",
       "      <td>7801e8d9</td>\n",
       "      <td>07d7df22</td>\n",
       "      <td>a99f214a</td>\n",
       "      <td>ab39bdf7</td>\n",
       "      <td>...</td>\n",
       "      <td>19772</td>\n",
       "      <td>320</td>\n",
       "      <td>50</td>\n",
       "      <td>2227</td>\n",
       "      <td>0</td>\n",
       "      <td>935</td>\n",
       "      <td>-1</td>\n",
       "      <td>48</td>\n",
       "      <td>22</td>\n",
       "      <td>Monday</td>\n",
       "    </tr>\n",
       "    <tr>\n",
       "      <th>...</th>\n",
       "      <td>...</td>\n",
       "      <td>...</td>\n",
       "      <td>...</td>\n",
       "      <td>...</td>\n",
       "      <td>...</td>\n",
       "      <td>...</td>\n",
       "      <td>...</td>\n",
       "      <td>...</td>\n",
       "      <td>...</td>\n",
       "      <td>...</td>\n",
       "      <td>...</td>\n",
       "      <td>...</td>\n",
       "      <td>...</td>\n",
       "      <td>...</td>\n",
       "      <td>...</td>\n",
       "      <td>...</td>\n",
       "      <td>...</td>\n",
       "      <td>...</td>\n",
       "      <td>...</td>\n",
       "      <td>...</td>\n",
       "      <td>...</td>\n",
       "    </tr>\n",
       "    <tr>\n",
       "      <th>5734</th>\n",
       "      <td>1005</td>\n",
       "      <td>0</td>\n",
       "      <td>85f751fd</td>\n",
       "      <td>c4e18dd6</td>\n",
       "      <td>50e219e0</td>\n",
       "      <td>090d3a47</td>\n",
       "      <td>0654b444</td>\n",
       "      <td>0f2161f8</td>\n",
       "      <td>a99f214a</td>\n",
       "      <td>b4b35bee</td>\n",
       "      <td>...</td>\n",
       "      <td>17212</td>\n",
       "      <td>320</td>\n",
       "      <td>50</td>\n",
       "      <td>1887</td>\n",
       "      <td>3</td>\n",
       "      <td>39</td>\n",
       "      <td>100194</td>\n",
       "      <td>23</td>\n",
       "      <td>17</td>\n",
       "      <td>Sunday</td>\n",
       "    </tr>\n",
       "    <tr>\n",
       "      <th>5191</th>\n",
       "      <td>1005</td>\n",
       "      <td>1</td>\n",
       "      <td>178a7b89</td>\n",
       "      <td>b4598159</td>\n",
       "      <td>f028772b</td>\n",
       "      <td>ecad2386</td>\n",
       "      <td>7801e8d9</td>\n",
       "      <td>07d7df22</td>\n",
       "      <td>a99f214a</td>\n",
       "      <td>7ab43b94</td>\n",
       "      <td>...</td>\n",
       "      <td>19771</td>\n",
       "      <td>320</td>\n",
       "      <td>50</td>\n",
       "      <td>2227</td>\n",
       "      <td>0</td>\n",
       "      <td>679</td>\n",
       "      <td>100081</td>\n",
       "      <td>48</td>\n",
       "      <td>7</td>\n",
       "      <td>Sunday</td>\n",
       "    </tr>\n",
       "    <tr>\n",
       "      <th>5390</th>\n",
       "      <td>1005</td>\n",
       "      <td>0</td>\n",
       "      <td>1fbe01fe</td>\n",
       "      <td>f3845767</td>\n",
       "      <td>28905ebd</td>\n",
       "      <td>ecad2386</td>\n",
       "      <td>7801e8d9</td>\n",
       "      <td>07d7df22</td>\n",
       "      <td>a99f214a</td>\n",
       "      <td>0fa21480</td>\n",
       "      <td>...</td>\n",
       "      <td>15706</td>\n",
       "      <td>320</td>\n",
       "      <td>50</td>\n",
       "      <td>1722</td>\n",
       "      <td>0</td>\n",
       "      <td>35</td>\n",
       "      <td>-1</td>\n",
       "      <td>79</td>\n",
       "      <td>11</td>\n",
       "      <td>Sunday</td>\n",
       "    </tr>\n",
       "    <tr>\n",
       "      <th>860</th>\n",
       "      <td>1005</td>\n",
       "      <td>0</td>\n",
       "      <td>85f751fd</td>\n",
       "      <td>c4e18dd6</td>\n",
       "      <td>50e219e0</td>\n",
       "      <td>2d869bee</td>\n",
       "      <td>d9b5648e</td>\n",
       "      <td>0f2161f8</td>\n",
       "      <td>a99f214a</td>\n",
       "      <td>1ca2d148</td>\n",
       "      <td>...</td>\n",
       "      <td>20751</td>\n",
       "      <td>320</td>\n",
       "      <td>50</td>\n",
       "      <td>1895</td>\n",
       "      <td>0</td>\n",
       "      <td>681</td>\n",
       "      <td>100028</td>\n",
       "      <td>101</td>\n",
       "      <td>19</td>\n",
       "      <td>Tuesday</td>\n",
       "    </tr>\n",
       "    <tr>\n",
       "      <th>7270</th>\n",
       "      <td>1005</td>\n",
       "      <td>1</td>\n",
       "      <td>e151e245</td>\n",
       "      <td>7e091613</td>\n",
       "      <td>f028772b</td>\n",
       "      <td>ecad2386</td>\n",
       "      <td>7801e8d9</td>\n",
       "      <td>07d7df22</td>\n",
       "      <td>a99f214a</td>\n",
       "      <td>0be07df1</td>\n",
       "      <td>...</td>\n",
       "      <td>17264</td>\n",
       "      <td>320</td>\n",
       "      <td>50</td>\n",
       "      <td>1872</td>\n",
       "      <td>3</td>\n",
       "      <td>39</td>\n",
       "      <td>-1</td>\n",
       "      <td>23</td>\n",
       "      <td>11</td>\n",
       "      <td>Tuesday</td>\n",
       "    </tr>\n",
       "  </tbody>\n",
       "</table>\n",
       "<p>8000 rows × 23 columns</p>\n",
       "</div>"
      ],
      "text/plain": [
       "        C1 banner_pos   site_id site_domain site_category    app_id  \\\n",
       "9254  1005          0  85f751fd    c4e18dd6      50e219e0  1cc958a2   \n",
       "1561  1005          0  1fbe01fe    f3845767      28905ebd  ecad2386   \n",
       "1670  1005          0  85f751fd    c4e18dd6      50e219e0  e9739828   \n",
       "6087  1005          0  93eaba74    7687a86e      3e814130  ecad2386   \n",
       "6669  1005          1  856e6d3f    58a89a43      f028772b  ecad2386   \n",
       "...    ...        ...       ...         ...           ...       ...   \n",
       "5734  1005          0  85f751fd    c4e18dd6      50e219e0  090d3a47   \n",
       "5191  1005          1  178a7b89    b4598159      f028772b  ecad2386   \n",
       "5390  1005          0  1fbe01fe    f3845767      28905ebd  ecad2386   \n",
       "860   1005          0  85f751fd    c4e18dd6      50e219e0  2d869bee   \n",
       "7270  1005          1  e151e245    7e091613      f028772b  ecad2386   \n",
       "\n",
       "     app_domain app_category device_id device_ip  ...    C14  C15  C16   C17  \\\n",
       "9254   2347f47a     f95efa07  a99f214a  2022a4c8  ...  23804  320   50  2726   \n",
       "1561   7801e8d9     07d7df22  a99f214a  a4afe726  ...  15702  320   50  1722   \n",
       "1670   df32afa9     cef3e649  a99f214a  fe75d0c7  ...  21769  320   50  2507   \n",
       "6087   7801e8d9     07d7df22  a99f214a  26b8bb1b  ...  17654  300  250  1994   \n",
       "6669   7801e8d9     07d7df22  a99f214a  ab39bdf7  ...  19772  320   50  2227   \n",
       "...         ...          ...       ...       ...  ...    ...  ...  ...   ...   \n",
       "5734   0654b444     0f2161f8  a99f214a  b4b35bee  ...  17212  320   50  1887   \n",
       "5191   7801e8d9     07d7df22  a99f214a  7ab43b94  ...  19771  320   50  2227   \n",
       "5390   7801e8d9     07d7df22  a99f214a  0fa21480  ...  15706  320   50  1722   \n",
       "860    d9b5648e     0f2161f8  a99f214a  1ca2d148  ...  20751  320   50  1895   \n",
       "7270   7801e8d9     07d7df22  a99f214a  0be07df1  ...  17264  320   50  1872   \n",
       "\n",
       "     C18  C19     C20  C21 hour_of_day day_of_week  \n",
       "9254   3  803  100148  229           5    Thursday  \n",
       "1561   0   35      -1   79          10   Wednesday  \n",
       "1670   0   35      -1  157          11   Wednesday  \n",
       "6087   2   39      -1   33           6      Monday  \n",
       "6669   0  935      -1   48          22      Monday  \n",
       "...   ..  ...     ...  ...         ...         ...  \n",
       "5734   3   39  100194   23          17      Sunday  \n",
       "5191   0  679  100081   48           7      Sunday  \n",
       "5390   0   35      -1   79          11      Sunday  \n",
       "860    0  681  100028  101          19     Tuesday  \n",
       "7270   3   39      -1   23          11     Tuesday  \n",
       "\n",
       "[8000 rows x 23 columns]"
      ]
     },
     "execution_count": 15,
     "metadata": {},
     "output_type": "execute_result"
    }
   ],
   "source": [
    "X_train"
   ]
  },
  {
   "cell_type": "code",
   "execution_count": 14,
   "metadata": {},
   "outputs": [
    {
     "data": {
      "text/plain": [
       "9254    0\n",
       "1561    1\n",
       "1670    0\n",
       "6087    0\n",
       "6669    0\n",
       "       ..\n",
       "5734    0\n",
       "5191    0\n",
       "5390    0\n",
       "860     0\n",
       "7270    0\n",
       "Name: click, Length: 8000, dtype: int64"
      ]
     },
     "execution_count": 14,
     "metadata": {},
     "output_type": "execute_result"
    }
   ],
   "source": [
    "y_train"
   ]
  },
  {
   "cell_type": "code",
   "execution_count": 16,
   "metadata": {},
   "outputs": [],
   "source": [
    "cat_features = [0, 1, 2, 3, 4, 5, 6, 7, 8, 9, 10, 11, 12, 13, 14, 15, 16, 17, 18, 19, 20,21,22]"
   ]
  },
  {
   "cell_type": "code",
   "execution_count": 20,
   "metadata": {},
   "outputs": [],
   "source": [
    "model = CatBoostClassifier(\n",
    "    iterations=50,\n",
    "    learning_rate=0.5,\n",
    "    task_type='CPU', # also GPU is available\n",
    "    loss_function='Logloss',\n",
    "    gpu_ram_part=0.9,\n",
    "    boosting_type='Plain',\n",
    "    max_ctr_complexity=2,\n",
    "    depth=6,\n",
    "    gpu_cat_features_storage='CpuPinnedMemory',\n",
    ")"
   ]
  },
  {
   "cell_type": "code",
   "execution_count": 31,
   "metadata": {},
   "outputs": [
    {
     "name": "stdout",
     "output_type": "stream",
     "text": [
      "Learning rate set to 0.052963\n",
      "0:\tlearn: 0.6663901\ttest: 0.6658557\ttest1: 0.6667779\tbest: 0.6667779 (0)\ttotal: 2.76ms\tremaining: 2.76s\n",
      "10:\tlearn: 0.5031690\ttest: 0.4986144\ttest1: 0.5019958\tbest: 0.5019958 (10)\ttotal: 116ms\tremaining: 10.4s\n",
      "20:\tlearn: 0.4535274\ttest: 0.4467004\ttest1: 0.4514476\tbest: 0.4514476 (20)\ttotal: 221ms\tremaining: 10.3s\n",
      "30:\tlearn: 0.4356049\ttest: 0.4285693\ttest1: 0.4331824\tbest: 0.4331824 (30)\ttotal: 322ms\tremaining: 10.1s\n",
      "40:\tlearn: 0.4268003\ttest: 0.4211129\ttest1: 0.4252696\tbest: 0.4252696 (40)\ttotal: 429ms\tremaining: 10s\n",
      "50:\tlearn: 0.4209515\ttest: 0.4169415\ttest1: 0.4206717\tbest: 0.4206717 (50)\ttotal: 546ms\tremaining: 10.2s\n",
      "60:\tlearn: 0.4168629\ttest: 0.4155252\ttest1: 0.4176054\tbest: 0.4176054 (60)\ttotal: 685ms\tremaining: 10.6s\n",
      "70:\tlearn: 0.4128312\ttest: 0.4153054\ttest1: 0.4161585\tbest: 0.4161585 (70)\ttotal: 846ms\tremaining: 11.1s\n",
      "80:\tlearn: 0.4105385\ttest: 0.4154538\ttest1: 0.4153505\tbest: 0.4153505 (80)\ttotal: 984ms\tremaining: 11.2s\n",
      "90:\tlearn: 0.4086178\ttest: 0.4151186\ttest1: 0.4146264\tbest: 0.4145549 (89)\ttotal: 1.12s\tremaining: 11.2s\n",
      "100:\tlearn: 0.4070650\ttest: 0.4153179\ttest1: 0.4141736\tbest: 0.4141717 (98)\ttotal: 1.23s\tremaining: 11s\n",
      "110:\tlearn: 0.4056987\ttest: 0.4149651\ttest1: 0.4141420\tbest: 0.4139924 (105)\ttotal: 1.36s\tremaining: 10.9s\n",
      "120:\tlearn: 0.4038056\ttest: 0.4151134\ttest1: 0.4133956\tbest: 0.4133956 (120)\ttotal: 1.48s\tremaining: 10.7s\n",
      "130:\tlearn: 0.4025371\ttest: 0.4151004\ttest1: 0.4134254\tbest: 0.4132873 (122)\ttotal: 1.59s\tremaining: 10.5s\n",
      "140:\tlearn: 0.4009758\ttest: 0.4152365\ttest1: 0.4131352\tbest: 0.4131352 (140)\ttotal: 1.71s\tremaining: 10.4s\n",
      "150:\tlearn: 0.3991754\ttest: 0.4151807\ttest1: 0.4134329\tbest: 0.4130765 (142)\ttotal: 1.85s\tremaining: 10.4s\n",
      "160:\tlearn: 0.3977874\ttest: 0.4152202\ttest1: 0.4136280\tbest: 0.4130765 (142)\ttotal: 1.98s\tremaining: 10.3s\n",
      "170:\tlearn: 0.3959959\ttest: 0.4153355\ttest1: 0.4135303\tbest: 0.4130765 (142)\ttotal: 2.1s\tremaining: 10.2s\n",
      "180:\tlearn: 0.3944364\ttest: 0.4154136\ttest1: 0.4134444\tbest: 0.4130765 (142)\ttotal: 2.23s\tremaining: 10.1s\n",
      "190:\tlearn: 0.3927518\ttest: 0.4150650\ttest1: 0.4134311\tbest: 0.4130765 (142)\ttotal: 2.35s\tremaining: 9.98s\n",
      "200:\tlearn: 0.3914498\ttest: 0.4155227\ttest1: 0.4132804\tbest: 0.4130765 (142)\ttotal: 2.47s\tremaining: 9.81s\n",
      "210:\tlearn: 0.3902741\ttest: 0.4157435\ttest1: 0.4131507\tbest: 0.4130765 (142)\ttotal: 2.6s\tremaining: 9.72s\n",
      "220:\tlearn: 0.3888831\ttest: 0.4158382\ttest1: 0.4131626\tbest: 0.4130556 (213)\ttotal: 2.75s\tremaining: 9.69s\n",
      "230:\tlearn: 0.3876301\ttest: 0.4160830\ttest1: 0.4127666\tbest: 0.4127649 (228)\ttotal: 2.88s\tremaining: 9.59s\n",
      "240:\tlearn: 0.3866066\ttest: 0.4161349\ttest1: 0.4130332\tbest: 0.4127649 (228)\ttotal: 3.02s\tremaining: 9.52s\n",
      "250:\tlearn: 0.3850080\ttest: 0.4156906\ttest1: 0.4130725\tbest: 0.4127649 (228)\ttotal: 3.16s\tremaining: 9.44s\n",
      "260:\tlearn: 0.3840398\ttest: 0.4158788\ttest1: 0.4132345\tbest: 0.4127649 (228)\ttotal: 3.31s\tremaining: 9.38s\n",
      "270:\tlearn: 0.3828138\ttest: 0.4160670\ttest1: 0.4133670\tbest: 0.4127649 (228)\ttotal: 3.45s\tremaining: 9.28s\n",
      "280:\tlearn: 0.3808848\ttest: 0.4158686\ttest1: 0.4136064\tbest: 0.4127649 (228)\ttotal: 3.58s\tremaining: 9.16s\n",
      "290:\tlearn: 0.3795628\ttest: 0.4156947\ttest1: 0.4137827\tbest: 0.4127649 (228)\ttotal: 3.72s\tremaining: 9.06s\n",
      "300:\tlearn: 0.3783807\ttest: 0.4162804\ttest1: 0.4136857\tbest: 0.4127649 (228)\ttotal: 3.87s\tremaining: 8.98s\n",
      "310:\tlearn: 0.3771232\ttest: 0.4168483\ttest1: 0.4137895\tbest: 0.4127649 (228)\ttotal: 4s\tremaining: 8.87s\n",
      "320:\tlearn: 0.3759373\ttest: 0.4172543\ttest1: 0.4138826\tbest: 0.4127649 (228)\ttotal: 4.15s\tremaining: 8.77s\n",
      "330:\tlearn: 0.3745973\ttest: 0.4177159\ttest1: 0.4143279\tbest: 0.4127649 (228)\ttotal: 4.3s\tremaining: 8.69s\n",
      "340:\tlearn: 0.3736352\ttest: 0.4175048\ttest1: 0.4141380\tbest: 0.4127649 (228)\ttotal: 4.46s\tremaining: 8.61s\n",
      "350:\tlearn: 0.3721955\ttest: 0.4176244\ttest1: 0.4139307\tbest: 0.4127649 (228)\ttotal: 4.62s\tremaining: 8.54s\n",
      "360:\tlearn: 0.3707972\ttest: 0.4176639\ttest1: 0.4138260\tbest: 0.4127649 (228)\ttotal: 4.76s\tremaining: 8.43s\n",
      "370:\tlearn: 0.3692717\ttest: 0.4175649\ttest1: 0.4139552\tbest: 0.4127649 (228)\ttotal: 4.9s\tremaining: 8.31s\n",
      "380:\tlearn: 0.3674748\ttest: 0.4177580\ttest1: 0.4140609\tbest: 0.4127649 (228)\ttotal: 5.03s\tremaining: 8.17s\n",
      "390:\tlearn: 0.3658124\ttest: 0.4182665\ttest1: 0.4143791\tbest: 0.4127649 (228)\ttotal: 5.22s\tremaining: 8.13s\n",
      "400:\tlearn: 0.3644165\ttest: 0.4189336\ttest1: 0.4141997\tbest: 0.4127649 (228)\ttotal: 5.36s\tremaining: 8.01s\n",
      "410:\tlearn: 0.3630580\ttest: 0.4194613\ttest1: 0.4143571\tbest: 0.4127649 (228)\ttotal: 5.5s\tremaining: 7.88s\n",
      "420:\tlearn: 0.3615405\ttest: 0.4192365\ttest1: 0.4145675\tbest: 0.4127649 (228)\ttotal: 5.63s\tremaining: 7.74s\n",
      "430:\tlearn: 0.3603377\ttest: 0.4190984\ttest1: 0.4149546\tbest: 0.4127649 (228)\ttotal: 5.76s\tremaining: 7.6s\n",
      "440:\tlearn: 0.3590343\ttest: 0.4191631\ttest1: 0.4150631\tbest: 0.4127649 (228)\ttotal: 5.9s\tremaining: 7.48s\n",
      "450:\tlearn: 0.3577038\ttest: 0.4191619\ttest1: 0.4151578\tbest: 0.4127649 (228)\ttotal: 6.04s\tremaining: 7.36s\n",
      "460:\tlearn: 0.3566073\ttest: 0.4192199\ttest1: 0.4150697\tbest: 0.4127649 (228)\ttotal: 6.18s\tremaining: 7.23s\n",
      "470:\tlearn: 0.3551457\ttest: 0.4192143\ttest1: 0.4147269\tbest: 0.4127649 (228)\ttotal: 6.32s\tremaining: 7.09s\n",
      "480:\tlearn: 0.3540365\ttest: 0.4196089\ttest1: 0.4148478\tbest: 0.4127649 (228)\ttotal: 6.45s\tremaining: 6.96s\n",
      "490:\tlearn: 0.3523860\ttest: 0.4190913\ttest1: 0.4150195\tbest: 0.4127649 (228)\ttotal: 6.58s\tremaining: 6.82s\n",
      "500:\tlearn: 0.3509228\ttest: 0.4190267\ttest1: 0.4154083\tbest: 0.4127649 (228)\ttotal: 6.72s\tremaining: 6.69s\n",
      "510:\tlearn: 0.3492306\ttest: 0.4187748\ttest1: 0.4160707\tbest: 0.4127649 (228)\ttotal: 6.86s\tremaining: 6.56s\n",
      "520:\tlearn: 0.3478887\ttest: 0.4192338\ttest1: 0.4160404\tbest: 0.4127649 (228)\ttotal: 7s\tremaining: 6.44s\n",
      "530:\tlearn: 0.3468591\ttest: 0.4194214\ttest1: 0.4163975\tbest: 0.4127649 (228)\ttotal: 7.15s\tremaining: 6.31s\n",
      "540:\tlearn: 0.3459167\ttest: 0.4192715\ttest1: 0.4163270\tbest: 0.4127649 (228)\ttotal: 7.29s\tremaining: 6.18s\n",
      "550:\tlearn: 0.3448570\ttest: 0.4192443\ttest1: 0.4159132\tbest: 0.4127649 (228)\ttotal: 7.43s\tremaining: 6.05s\n",
      "560:\tlearn: 0.3434379\ttest: 0.4192841\ttest1: 0.4164587\tbest: 0.4127649 (228)\ttotal: 7.58s\tremaining: 5.93s\n",
      "570:\tlearn: 0.3419125\ttest: 0.4190371\ttest1: 0.4165698\tbest: 0.4127649 (228)\ttotal: 7.72s\tremaining: 5.8s\n",
      "580:\tlearn: 0.3406489\ttest: 0.4191315\ttest1: 0.4164792\tbest: 0.4127649 (228)\ttotal: 7.87s\tremaining: 5.68s\n",
      "590:\tlearn: 0.3394184\ttest: 0.4191632\ttest1: 0.4166516\tbest: 0.4127649 (228)\ttotal: 8.01s\tremaining: 5.54s\n",
      "600:\tlearn: 0.3384886\ttest: 0.4190946\ttest1: 0.4166160\tbest: 0.4127649 (228)\ttotal: 8.14s\tremaining: 5.41s\n",
      "610:\tlearn: 0.3374296\ttest: 0.4190184\ttest1: 0.4165563\tbest: 0.4127649 (228)\ttotal: 8.27s\tremaining: 5.27s\n",
      "620:\tlearn: 0.3361409\ttest: 0.4199381\ttest1: 0.4167168\tbest: 0.4127649 (228)\ttotal: 8.42s\tremaining: 5.14s\n",
      "630:\tlearn: 0.3346490\ttest: 0.4200898\ttest1: 0.4168461\tbest: 0.4127649 (228)\ttotal: 8.56s\tremaining: 5.01s\n",
      "640:\tlearn: 0.3335870\ttest: 0.4204279\ttest1: 0.4168873\tbest: 0.4127649 (228)\ttotal: 8.69s\tremaining: 4.87s\n",
      "650:\tlearn: 0.3324318\ttest: 0.4201908\ttest1: 0.4171907\tbest: 0.4127649 (228)\ttotal: 8.81s\tremaining: 4.72s\n",
      "660:\tlearn: 0.3316245\ttest: 0.4201206\ttest1: 0.4174997\tbest: 0.4127649 (228)\ttotal: 8.96s\tremaining: 4.59s\n",
      "670:\tlearn: 0.3303304\ttest: 0.4199699\ttest1: 0.4178656\tbest: 0.4127649 (228)\ttotal: 9.09s\tremaining: 4.46s\n",
      "680:\tlearn: 0.3292387\ttest: 0.4203546\ttest1: 0.4178591\tbest: 0.4127649 (228)\ttotal: 9.22s\tremaining: 4.32s\n",
      "690:\tlearn: 0.3278376\ttest: 0.4206121\ttest1: 0.4182124\tbest: 0.4127649 (228)\ttotal: 9.35s\tremaining: 4.18s\n",
      "700:\tlearn: 0.3265394\ttest: 0.4209791\ttest1: 0.4181871\tbest: 0.4127649 (228)\ttotal: 9.49s\tremaining: 4.05s\n",
      "710:\tlearn: 0.3252022\ttest: 0.4210161\ttest1: 0.4180181\tbest: 0.4127649 (228)\ttotal: 9.62s\tremaining: 3.91s\n",
      "720:\tlearn: 0.3240576\ttest: 0.4207290\ttest1: 0.4182307\tbest: 0.4127649 (228)\ttotal: 9.75s\tremaining: 3.77s\n",
      "730:\tlearn: 0.3228764\ttest: 0.4208714\ttest1: 0.4185452\tbest: 0.4127649 (228)\ttotal: 9.91s\tremaining: 3.65s\n",
      "740:\tlearn: 0.3217332\ttest: 0.4208867\ttest1: 0.4185664\tbest: 0.4127649 (228)\ttotal: 10s\tremaining: 3.51s\n",
      "750:\tlearn: 0.3204995\ttest: 0.4211477\ttest1: 0.4185611\tbest: 0.4127649 (228)\ttotal: 10.2s\tremaining: 3.37s\n",
      "760:\tlearn: 0.3194999\ttest: 0.4213503\ttest1: 0.4186920\tbest: 0.4127649 (228)\ttotal: 10.4s\tremaining: 3.26s\n",
      "770:\tlearn: 0.3182124\ttest: 0.4214871\ttest1: 0.4192530\tbest: 0.4127649 (228)\ttotal: 10.6s\tremaining: 3.15s\n",
      "780:\tlearn: 0.3169797\ttest: 0.4213996\ttest1: 0.4192008\tbest: 0.4127649 (228)\ttotal: 10.7s\tremaining: 3.01s\n",
      "790:\tlearn: 0.3158187\ttest: 0.4211125\ttest1: 0.4193227\tbest: 0.4127649 (228)\ttotal: 10.9s\tremaining: 2.87s\n",
      "800:\tlearn: 0.3148222\ttest: 0.4212070\ttest1: 0.4192127\tbest: 0.4127649 (228)\ttotal: 11s\tremaining: 2.74s\n",
      "810:\tlearn: 0.3138324\ttest: 0.4211147\ttest1: 0.4192484\tbest: 0.4127649 (228)\ttotal: 11.2s\tremaining: 2.6s\n",
      "820:\tlearn: 0.3124428\ttest: 0.4209463\ttest1: 0.4195854\tbest: 0.4127649 (228)\ttotal: 11.3s\tremaining: 2.47s\n",
      "830:\tlearn: 0.3111604\ttest: 0.4210634\ttest1: 0.4196092\tbest: 0.4127649 (228)\ttotal: 11.5s\tremaining: 2.33s\n",
      "840:\tlearn: 0.3102995\ttest: 0.4210187\ttest1: 0.4200088\tbest: 0.4127649 (228)\ttotal: 11.6s\tremaining: 2.2s\n",
      "850:\tlearn: 0.3092236\ttest: 0.4206161\ttest1: 0.4201963\tbest: 0.4127649 (228)\ttotal: 11.8s\tremaining: 2.06s\n",
      "860:\tlearn: 0.3083630\ttest: 0.4204526\ttest1: 0.4206411\tbest: 0.4127649 (228)\ttotal: 11.9s\tremaining: 1.92s\n",
      "870:\tlearn: 0.3074456\ttest: 0.4211074\ttest1: 0.4205555\tbest: 0.4127649 (228)\ttotal: 12s\tremaining: 1.78s\n",
      "880:\tlearn: 0.3066565\ttest: 0.4216007\ttest1: 0.4205585\tbest: 0.4127649 (228)\ttotal: 12.2s\tremaining: 1.64s\n",
      "890:\tlearn: 0.3057114\ttest: 0.4220276\ttest1: 0.4207439\tbest: 0.4127649 (228)\ttotal: 12.3s\tremaining: 1.5s\n",
      "900:\tlearn: 0.3045739\ttest: 0.4220088\ttest1: 0.4208343\tbest: 0.4127649 (228)\ttotal: 12.4s\tremaining: 1.36s\n",
      "910:\tlearn: 0.3037306\ttest: 0.4222439\ttest1: 0.4213640\tbest: 0.4127649 (228)\ttotal: 12.6s\tremaining: 1.23s\n",
      "920:\tlearn: 0.3029152\ttest: 0.4222365\ttest1: 0.4213407\tbest: 0.4127649 (228)\ttotal: 12.7s\tremaining: 1.09s\n",
      "930:\tlearn: 0.3019013\ttest: 0.4223092\ttest1: 0.4215362\tbest: 0.4127649 (228)\ttotal: 12.8s\tremaining: 951ms\n",
      "940:\tlearn: 0.3010011\ttest: 0.4222572\ttest1: 0.4218947\tbest: 0.4127649 (228)\ttotal: 13s\tremaining: 813ms\n",
      "950:\tlearn: 0.2999826\ttest: 0.4222846\ttest1: 0.4220229\tbest: 0.4127649 (228)\ttotal: 13.1s\tremaining: 675ms\n",
      "960:\tlearn: 0.2989336\ttest: 0.4226559\ttest1: 0.4220160\tbest: 0.4127649 (228)\ttotal: 13.2s\tremaining: 537ms\n",
      "970:\tlearn: 0.2980513\ttest: 0.4225546\ttest1: 0.4217386\tbest: 0.4127649 (228)\ttotal: 13.4s\tremaining: 399ms\n",
      "980:\tlearn: 0.2971822\ttest: 0.4225135\ttest1: 0.4217735\tbest: 0.4127649 (228)\ttotal: 13.5s\tremaining: 262ms\n",
      "990:\tlearn: 0.2963704\ttest: 0.4226457\ttest1: 0.4217771\tbest: 0.4127649 (228)\ttotal: 13.6s\tremaining: 124ms\n",
      "999:\tlearn: 0.2954344\ttest: 0.4227565\ttest1: 0.4219160\tbest: 0.4127649 (228)\ttotal: 13.8s\tremaining: 0us\n",
      "\n",
      "bestTest = 0.4127648696\n",
      "bestIteration = 228\n",
      "\n",
      "Shrink model to first 229 iterations.\n"
     ]
    },
    {
     "data": {
      "text/plain": [
       "<catboost.core.CatBoostClassifier at 0x2806500d0>"
      ]
     },
     "execution_count": 31,
     "metadata": {},
     "output_type": "execute_result"
    }
   ],
   "source": [
    "cat_features = [0, 1, 2, 3, 4, 5, 6, 7, 8, 9, 10, 11, 12, 13, 14, 15, 16, 17, 18, 19, 20,21,22]\n",
    "\n",
    "model.fit(\n",
    "    X_train, y_train,\n",
    "    eval_set=[(X_valid, y_valid), (X_test, y_test)],\n",
    "    cat_features=cat_features,\n",
    "    verbose=10\n",
    ")"
   ]
  },
  {
   "cell_type": "code",
   "execution_count": 33,
   "metadata": {},
   "outputs": [
    {
     "data": {
      "text/html": [
       "<div>\n",
       "<style scoped>\n",
       "    .dataframe tbody tr th:only-of-type {\n",
       "        vertical-align: middle;\n",
       "    }\n",
       "\n",
       "    .dataframe tbody tr th {\n",
       "        vertical-align: top;\n",
       "    }\n",
       "\n",
       "    .dataframe thead th {\n",
       "        text-align: right;\n",
       "    }\n",
       "</style>\n",
       "<table border=\"1\" class=\"dataframe\">\n",
       "  <thead>\n",
       "    <tr style=\"text-align: right;\">\n",
       "      <th></th>\n",
       "      <th>Feature Id</th>\n",
       "      <th>Importances</th>\n",
       "    </tr>\n",
       "  </thead>\n",
       "  <tbody>\n",
       "    <tr>\n",
       "      <th>0</th>\n",
       "      <td>site_domain</td>\n",
       "      <td>6.682525</td>\n",
       "    </tr>\n",
       "    <tr>\n",
       "      <th>1</th>\n",
       "      <td>app_id</td>\n",
       "      <td>6.675858</td>\n",
       "    </tr>\n",
       "    <tr>\n",
       "      <th>2</th>\n",
       "      <td>C21</td>\n",
       "      <td>6.593546</td>\n",
       "    </tr>\n",
       "    <tr>\n",
       "      <th>3</th>\n",
       "      <td>site_id</td>\n",
       "      <td>6.551978</td>\n",
       "    </tr>\n",
       "    <tr>\n",
       "      <th>4</th>\n",
       "      <td>device_model</td>\n",
       "      <td>6.247201</td>\n",
       "    </tr>\n",
       "    <tr>\n",
       "      <th>5</th>\n",
       "      <td>day_of_week</td>\n",
       "      <td>6.028937</td>\n",
       "    </tr>\n",
       "    <tr>\n",
       "      <th>6</th>\n",
       "      <td>hour_of_day</td>\n",
       "      <td>6.015655</td>\n",
       "    </tr>\n",
       "    <tr>\n",
       "      <th>7</th>\n",
       "      <td>C17</td>\n",
       "      <td>6.013983</td>\n",
       "    </tr>\n",
       "    <tr>\n",
       "      <th>8</th>\n",
       "      <td>C20</td>\n",
       "      <td>5.764570</td>\n",
       "    </tr>\n",
       "    <tr>\n",
       "      <th>9</th>\n",
       "      <td>C19</td>\n",
       "      <td>5.374555</td>\n",
       "    </tr>\n",
       "    <tr>\n",
       "      <th>10</th>\n",
       "      <td>C18</td>\n",
       "      <td>5.106252</td>\n",
       "    </tr>\n",
       "    <tr>\n",
       "      <th>11</th>\n",
       "      <td>site_category</td>\n",
       "      <td>4.729208</td>\n",
       "    </tr>\n",
       "    <tr>\n",
       "      <th>12</th>\n",
       "      <td>app_domain</td>\n",
       "      <td>3.957604</td>\n",
       "    </tr>\n",
       "    <tr>\n",
       "      <th>13</th>\n",
       "      <td>C14</td>\n",
       "      <td>3.864123</td>\n",
       "    </tr>\n",
       "    <tr>\n",
       "      <th>14</th>\n",
       "      <td>C16</td>\n",
       "      <td>3.838240</td>\n",
       "    </tr>\n",
       "    <tr>\n",
       "      <th>15</th>\n",
       "      <td>app_category</td>\n",
       "      <td>3.373708</td>\n",
       "    </tr>\n",
       "    <tr>\n",
       "      <th>16</th>\n",
       "      <td>C15</td>\n",
       "      <td>2.719368</td>\n",
       "    </tr>\n",
       "    <tr>\n",
       "      <th>17</th>\n",
       "      <td>device_conn_type</td>\n",
       "      <td>2.601360</td>\n",
       "    </tr>\n",
       "    <tr>\n",
       "      <th>18</th>\n",
       "      <td>C1</td>\n",
       "      <td>2.347874</td>\n",
       "    </tr>\n",
       "    <tr>\n",
       "      <th>19</th>\n",
       "      <td>device_type</td>\n",
       "      <td>2.059992</td>\n",
       "    </tr>\n",
       "    <tr>\n",
       "      <th>20</th>\n",
       "      <td>banner_pos</td>\n",
       "      <td>1.752944</td>\n",
       "    </tr>\n",
       "    <tr>\n",
       "      <th>21</th>\n",
       "      <td>device_id</td>\n",
       "      <td>1.067566</td>\n",
       "    </tr>\n",
       "    <tr>\n",
       "      <th>22</th>\n",
       "      <td>device_ip</td>\n",
       "      <td>0.632954</td>\n",
       "    </tr>\n",
       "  </tbody>\n",
       "</table>\n",
       "</div>"
      ],
      "text/plain": [
       "          Feature Id  Importances\n",
       "0        site_domain     6.682525\n",
       "1             app_id     6.675858\n",
       "2                C21     6.593546\n",
       "3            site_id     6.551978\n",
       "4       device_model     6.247201\n",
       "5        day_of_week     6.028937\n",
       "6        hour_of_day     6.015655\n",
       "7                C17     6.013983\n",
       "8                C20     5.764570\n",
       "9                C19     5.374555\n",
       "10               C18     5.106252\n",
       "11     site_category     4.729208\n",
       "12        app_domain     3.957604\n",
       "13               C14     3.864123\n",
       "14               C16     3.838240\n",
       "15      app_category     3.373708\n",
       "16               C15     2.719368\n",
       "17  device_conn_type     2.601360\n",
       "18                C1     2.347874\n",
       "19       device_type     2.059992\n",
       "20        banner_pos     1.752944\n",
       "21         device_id     1.067566\n",
       "22         device_ip     0.632954"
      ]
     },
     "execution_count": 33,
     "metadata": {},
     "output_type": "execute_result"
    }
   ],
   "source": [
    "model.get_feature_importance(prettified=True)\n"
   ]
  },
  {
   "cell_type": "code",
   "execution_count": 7,
   "metadata": {},
   "outputs": [
    {
     "ename": "TypeError",
     "evalue": "login() got an unexpected keyword argument 'api_key'",
     "output_type": "error",
     "traceback": [
      "\u001b[0;31m---------------------------------------------------------------------------\u001b[0m",
      "\u001b[0;31mTypeError\u001b[0m                                 Traceback (most recent call last)",
      "Cell \u001b[0;32mIn[7], line 3\u001b[0m\n\u001b[1;32m      1\u001b[0m \u001b[39mimport\u001b[39;00m \u001b[39mwandb\u001b[39;00m\n\u001b[1;32m      2\u001b[0m \u001b[39m#wandb login e7af045db59ef2d253743f547f333040a785e5ce\u001b[39;00m\n\u001b[0;32m----> 3\u001b[0m wandb\u001b[39m.\u001b[39;49mlogin(api_key\u001b[39m=\u001b[39;49m\u001b[39m\"\u001b[39;49m\u001b[39me7af045db59ef2d253743f547f333040a785e5ce\u001b[39;49m\u001b[39m\"\u001b[39;49m)\n",
      "\u001b[0;31mTypeError\u001b[0m: login() got an unexpected keyword argument 'api_key'"
     ]
    }
   ],
   "source": [
    "import wandb\n",
    "#wandb login e7af045db59ef2d253743f547f333040a785e5ce\n",
    "#wandb.login(api_key=\"e7af045db59ef2d253743f547f333040a785e5ce\")\n"
   ]
  },
  {
   "cell_type": "code",
   "execution_count": 6,
   "metadata": {},
   "outputs": [
    {
     "name": "stderr",
     "output_type": "stream",
     "text": [
      "Failed to detect the name of this notebook, you can set it manually with the WANDB_NOTEBOOK_NAME environment variable to enable code saving.\n",
      "\u001b[34m\u001b[1mwandb\u001b[0m: Currently logged in as: \u001b[33mftmoztl\u001b[0m. Use \u001b[1m`wandb login --relogin`\u001b[0m to force relogin\n"
     ]
    },
    {
     "data": {
      "text/html": [
       "Tracking run with wandb version 0.15.9"
      ],
      "text/plain": [
       "<IPython.core.display.HTML object>"
      ]
     },
     "metadata": {},
     "output_type": "display_data"
    },
    {
     "data": {
      "text/html": [
       "Run data is saved locally in <code>/Users/fatmaoztel/Desktop/Fatima Projects/CTR-prediction/CTR-prediction/wandb/run-20230831_211502-tpe9lpqa</code>"
      ],
      "text/plain": [
       "<IPython.core.display.HTML object>"
      ]
     },
     "metadata": {},
     "output_type": "display_data"
    },
    {
     "data": {
      "text/html": [
       "Syncing run <strong><a href='https://wandb.ai/ftmoztl/ctr-prediction/runs/tpe9lpqa' target=\"_blank\">summer-snowflake-1</a></strong> to <a href='https://wandb.ai/ftmoztl/ctr-prediction' target=\"_blank\">Weights & Biases</a> (<a href='https://wandb.me/run' target=\"_blank\">docs</a>)<br/>"
      ],
      "text/plain": [
       "<IPython.core.display.HTML object>"
      ]
     },
     "metadata": {},
     "output_type": "display_data"
    },
    {
     "data": {
      "text/html": [
       " View project at <a href='https://wandb.ai/ftmoztl/ctr-prediction' target=\"_blank\">https://wandb.ai/ftmoztl/ctr-prediction</a>"
      ],
      "text/plain": [
       "<IPython.core.display.HTML object>"
      ]
     },
     "metadata": {},
     "output_type": "display_data"
    },
    {
     "data": {
      "text/html": [
       " View run at <a href='https://wandb.ai/ftmoztl/ctr-prediction/runs/tpe9lpqa' target=\"_blank\">https://wandb.ai/ftmoztl/ctr-prediction/runs/tpe9lpqa</a>"
      ],
      "text/plain": [
       "<IPython.core.display.HTML object>"
      ]
     },
     "metadata": {},
     "output_type": "display_data"
    },
    {
     "data": {
      "text/html": [
       "Waiting for W&B process to finish... <strong style=\"color:green\">(success).</strong>"
      ],
      "text/plain": [
       "<IPython.core.display.HTML object>"
      ]
     },
     "metadata": {},
     "output_type": "display_data"
    },
    {
     "name": "stderr",
     "output_type": "stream",
     "text": [
      "wandb: WARNING Source type is set to 'repo' but some required information is missing from the environment. A job will not be created from this run. See https://docs.wandb.ai/guides/launch/create-job\n"
     ]
    },
    {
     "data": {
      "text/html": [
       "<style>\n",
       "    table.wandb td:nth-child(1) { padding: 0 10px; text-align: left ; width: auto;} td:nth-child(2) {text-align: left ; width: 100%}\n",
       "    .wandb-row { display: flex; flex-direction: row; flex-wrap: wrap; justify-content: flex-start; width: 100% }\n",
       "    .wandb-col { display: flex; flex-direction: column; flex-basis: 100%; flex: 1; padding: 10px; }\n",
       "    </style>\n",
       "<div class=\"wandb-row\"><div class=\"wandb-col\"><h3>Run history:</h3><br/><table class=\"wandb\"><tr><td>acc</td><td>▁▅▇▇█▇██</td></tr><tr><td>loss</td><td>█▃▂▂▃▁▁▁</td></tr></table><br/></div><div class=\"wandb-col\"><h3>Run summary:</h3><br/><table class=\"wandb\"><tr><td>acc</td><td>0.77434</td></tr><tr><td>loss</td><td>0.15144</td></tr></table><br/></div></div>"
      ],
      "text/plain": [
       "<IPython.core.display.HTML object>"
      ]
     },
     "metadata": {},
     "output_type": "display_data"
    },
    {
     "data": {
      "text/html": [
       " View run <strong style=\"color:#cdcd00\">summer-snowflake-1</strong> at: <a href='https://wandb.ai/ftmoztl/ctr-prediction/runs/tpe9lpqa' target=\"_blank\">https://wandb.ai/ftmoztl/ctr-prediction/runs/tpe9lpqa</a><br/>Synced 4 W&B file(s), 0 media file(s), 0 artifact file(s) and 0 other file(s)"
      ],
      "text/plain": [
       "<IPython.core.display.HTML object>"
      ]
     },
     "metadata": {},
     "output_type": "display_data"
    },
    {
     "data": {
      "text/html": [
       "Find logs at: <code>./wandb/run-20230831_211502-tpe9lpqa/logs</code>"
      ],
      "text/plain": [
       "<IPython.core.display.HTML object>"
      ]
     },
     "metadata": {},
     "output_type": "display_data"
    }
   ],
   "source": [
    "import random\n",
    "\n",
    "# start a new wandb run to track this script\n",
    "wandb.init(\n",
    "    # set the wandb project where this run will be logged\n",
    "    project=\"ctr-prediction\",\n",
    "    \n",
    "    # track hyperparameters and run metadata\n",
    "    config={\n",
    "    \"learning_rate\": 0.02,\n",
    "    \"architecture\": \"CNN\",\n",
    "    \"dataset\": \"CIFAR-100\",\n",
    "    \"epochs\": 10,\n",
    "    }\n",
    ")\n",
    "\n",
    "# simulate training\n",
    "epochs = 10\n",
    "offset = random.random() / 5\n",
    "for epoch in range(2, epochs):\n",
    "    acc = 1 - 2 ** -epoch - random.random() / epoch - offset\n",
    "    loss = 2 ** -epoch + random.random() / epoch + offset\n",
    "    \n",
    "    # log metrics to wandb\n",
    "    wandb.log({\"acc\": acc, \"loss\": loss})\n",
    "    \n",
    "# [optional] finish the wandb run, necessary in notebooks\n",
    "wandb.finish()"
   ]
  },
  {
   "cell_type": "markdown",
   "metadata": {},
   "source": [
    "no space to wrtie in visual studio"
   ]
  },
  {
   "cell_type": "code",
   "execution_count": 17,
   "metadata": {},
   "outputs": [
    {
     "data": {
      "text/html": [
       "Tracking run with wandb version 0.15.9"
      ],
      "text/plain": [
       "<IPython.core.display.HTML object>"
      ]
     },
     "metadata": {},
     "output_type": "display_data"
    },
    {
     "data": {
      "text/html": [
       "Run data is saved locally in <code>/Users/fatmaoztel/Desktop/Fatima Projects/CTR-prediction/CTR-prediction/wandb/run-20230831_212852-940rycsz</code>"
      ],
      "text/plain": [
       "<IPython.core.display.HTML object>"
      ]
     },
     "metadata": {},
     "output_type": "display_data"
    },
    {
     "data": {
      "text/html": [
       "Syncing run <strong><a href='https://wandb.ai/ftmoztl/ctr-prediction/runs/940rycsz' target=\"_blank\">classic-voice-2</a></strong> to <a href='https://wandb.ai/ftmoztl/ctr-prediction' target=\"_blank\">Weights & Biases</a> (<a href='https://wandb.me/run' target=\"_blank\">docs</a>)<br/>"
      ],
      "text/plain": [
       "<IPython.core.display.HTML object>"
      ]
     },
     "metadata": {},
     "output_type": "display_data"
    },
    {
     "data": {
      "text/html": [
       " View project at <a href='https://wandb.ai/ftmoztl/ctr-prediction' target=\"_blank\">https://wandb.ai/ftmoztl/ctr-prediction</a>"
      ],
      "text/plain": [
       "<IPython.core.display.HTML object>"
      ]
     },
     "metadata": {},
     "output_type": "display_data"
    },
    {
     "data": {
      "text/html": [
       " View run at <a href='https://wandb.ai/ftmoztl/ctr-prediction/runs/940rycsz' target=\"_blank\">https://wandb.ai/ftmoztl/ctr-prediction/runs/940rycsz</a>"
      ],
      "text/plain": [
       "<IPython.core.display.HTML object>"
      ]
     },
     "metadata": {},
     "output_type": "display_data"
    },
    {
     "data": {
      "text/html": [
       "Finishing last run (ID:940rycsz) before initializing another..."
      ],
      "text/plain": [
       "<IPython.core.display.HTML object>"
      ]
     },
     "metadata": {},
     "output_type": "display_data"
    },
    {
     "data": {
      "text/html": [
       "Waiting for W&B process to finish... <strong style=\"color:green\">(success).</strong>"
      ],
      "text/plain": [
       "<IPython.core.display.HTML object>"
      ]
     },
     "metadata": {},
     "output_type": "display_data"
    },
    {
     "name": "stderr",
     "output_type": "stream",
     "text": [
      "wandb: WARNING Source type is set to 'repo' but some required information is missing from the environment. A job will not be created from this run. See https://docs.wandb.ai/guides/launch/create-job\n"
     ]
    },
    {
     "data": {
      "text/html": [
       " View run <strong style=\"color:#cdcd00\">classic-voice-2</strong> at: <a href='https://wandb.ai/ftmoztl/ctr-prediction/runs/940rycsz' target=\"_blank\">https://wandb.ai/ftmoztl/ctr-prediction/runs/940rycsz</a><br/>Synced 4 W&B file(s), 0 media file(s), 0 artifact file(s) and 0 other file(s)"
      ],
      "text/plain": [
       "<IPython.core.display.HTML object>"
      ]
     },
     "metadata": {},
     "output_type": "display_data"
    },
    {
     "data": {
      "text/html": [
       "Find logs at: <code>./wandb/run-20230831_212852-940rycsz/logs</code>"
      ],
      "text/plain": [
       "<IPython.core.display.HTML object>"
      ]
     },
     "metadata": {},
     "output_type": "display_data"
    },
    {
     "data": {
      "text/html": [
       "Successfully finished last run (ID:940rycsz). Initializing new run:<br/>"
      ],
      "text/plain": [
       "<IPython.core.display.HTML object>"
      ]
     },
     "metadata": {},
     "output_type": "display_data"
    },
    {
     "data": {
      "text/html": [
       "Tracking run with wandb version 0.15.9"
      ],
      "text/plain": [
       "<IPython.core.display.HTML object>"
      ]
     },
     "metadata": {},
     "output_type": "display_data"
    },
    {
     "data": {
      "text/html": [
       "Run data is saved locally in <code>/Users/fatmaoztel/Desktop/Fatima Projects/CTR-prediction/CTR-prediction/wandb/run-20230831_212854-63khdimg</code>"
      ],
      "text/plain": [
       "<IPython.core.display.HTML object>"
      ]
     },
     "metadata": {},
     "output_type": "display_data"
    },
    {
     "data": {
      "text/html": [
       "Syncing run <strong><a href='https://wandb.ai/ftmoztl/catboost_example/runs/63khdimg' target=\"_blank\">dashing-bee-1</a></strong> to <a href='https://wandb.ai/ftmoztl/catboost_example' target=\"_blank\">Weights & Biases</a> (<a href='https://wandb.me/run' target=\"_blank\">docs</a>)<br/>"
      ],
      "text/plain": [
       "<IPython.core.display.HTML object>"
      ]
     },
     "metadata": {},
     "output_type": "display_data"
    },
    {
     "data": {
      "text/html": [
       " View project at <a href='https://wandb.ai/ftmoztl/catboost_example' target=\"_blank\">https://wandb.ai/ftmoztl/catboost_example</a>"
      ],
      "text/plain": [
       "<IPython.core.display.HTML object>"
      ]
     },
     "metadata": {},
     "output_type": "display_data"
    },
    {
     "data": {
      "text/html": [
       " View run at <a href='https://wandb.ai/ftmoztl/catboost_example/runs/63khdimg' target=\"_blank\">https://wandb.ai/ftmoztl/catboost_example/runs/63khdimg</a>"
      ],
      "text/plain": [
       "<IPython.core.display.HTML object>"
      ]
     },
     "metadata": {},
     "output_type": "display_data"
    },
    {
     "data": {
      "text/html": [
       "Waiting for W&B process to finish... <strong style=\"color:green\">(success).</strong>"
      ],
      "text/plain": [
       "<IPython.core.display.HTML object>"
      ]
     },
     "metadata": {},
     "output_type": "display_data"
    },
    {
     "name": "stderr",
     "output_type": "stream",
     "text": [
      "wandb: WARNING Source type is set to 'repo' but some required information is missing from the environment. A job will not be created from this run. See https://docs.wandb.ai/guides/launch/create-job\n"
     ]
    },
    {
     "data": {
      "text/html": [
       "<style>\n",
       "    table.wandb td:nth-child(1) { padding: 0 10px; text-align: left ; width: auto;} td:nth-child(2) {text-align: left ; width: 100%}\n",
       "    .wandb-row { display: flex; flex-direction: row; flex-wrap: wrap; justify-content: flex-start; width: 100% }\n",
       "    .wandb-col { display: flex; flex-direction: column; flex-basis: 100%; flex: 1; padding: 10px; }\n",
       "    </style>\n",
       "<div class=\"wandb-row\"><div class=\"wandb-col\"><h3>Run history:</h3><br/><table class=\"wandb\"><tr><td>accuracy</td><td>▁</td></tr></table><br/></div><div class=\"wandb-col\"><h3>Run summary:</h3><br/><table class=\"wandb\"><tr><td>accuracy</td><td>0.825</td></tr></table><br/></div></div>"
      ],
      "text/plain": [
       "<IPython.core.display.HTML object>"
      ]
     },
     "metadata": {},
     "output_type": "display_data"
    },
    {
     "data": {
      "text/html": [
       " View run <strong style=\"color:#cdcd00\">dashing-bee-1</strong> at: <a href='https://wandb.ai/ftmoztl/catboost_example/runs/63khdimg' target=\"_blank\">https://wandb.ai/ftmoztl/catboost_example/runs/63khdimg</a><br/>Synced 4 W&B file(s), 0 media file(s), 0 artifact file(s) and 0 other file(s)"
      ],
      "text/plain": [
       "<IPython.core.display.HTML object>"
      ]
     },
     "metadata": {},
     "output_type": "display_data"
    },
    {
     "data": {
      "text/html": [
       "Find logs at: <code>./wandb/run-20230831_212854-63khdimg/logs</code>"
      ],
      "text/plain": [
       "<IPython.core.display.HTML object>"
      ]
     },
     "metadata": {},
     "output_type": "display_data"
    },
    {
     "data": {
      "text/html": [
       "Tracking run with wandb version 0.15.9"
      ],
      "text/plain": [
       "<IPython.core.display.HTML object>"
      ]
     },
     "metadata": {},
     "output_type": "display_data"
    },
    {
     "data": {
      "text/html": [
       "Run data is saved locally in <code>/Users/fatmaoztel/Desktop/Fatima Projects/CTR-prediction/CTR-prediction/wandb/run-20230831_212907-yesp73tc</code>"
      ],
      "text/plain": [
       "<IPython.core.display.HTML object>"
      ]
     },
     "metadata": {},
     "output_type": "display_data"
    },
    {
     "data": {
      "text/html": [
       "Syncing run <strong><a href='https://wandb.ai/ftmoztl/catboost_example/runs/yesp73tc' target=\"_blank\">unique-surf-2</a></strong> to <a href='https://wandb.ai/ftmoztl/catboost_example' target=\"_blank\">Weights & Biases</a> (<a href='https://wandb.me/run' target=\"_blank\">docs</a>)<br/>"
      ],
      "text/plain": [
       "<IPython.core.display.HTML object>"
      ]
     },
     "metadata": {},
     "output_type": "display_data"
    },
    {
     "data": {
      "text/html": [
       " View project at <a href='https://wandb.ai/ftmoztl/catboost_example' target=\"_blank\">https://wandb.ai/ftmoztl/catboost_example</a>"
      ],
      "text/plain": [
       "<IPython.core.display.HTML object>"
      ]
     },
     "metadata": {},
     "output_type": "display_data"
    },
    {
     "data": {
      "text/html": [
       " View run at <a href='https://wandb.ai/ftmoztl/catboost_example/runs/yesp73tc' target=\"_blank\">https://wandb.ai/ftmoztl/catboost_example/runs/yesp73tc</a>"
      ],
      "text/plain": [
       "<IPython.core.display.HTML object>"
      ]
     },
     "metadata": {},
     "output_type": "display_data"
    },
    {
     "data": {
      "text/html": [
       "Waiting for W&B process to finish... <strong style=\"color:green\">(success).</strong>"
      ],
      "text/plain": [
       "<IPython.core.display.HTML object>"
      ]
     },
     "metadata": {},
     "output_type": "display_data"
    },
    {
     "name": "stderr",
     "output_type": "stream",
     "text": [
      "wandb: WARNING Source type is set to 'repo' but some required information is missing from the environment. A job will not be created from this run. See https://docs.wandb.ai/guides/launch/create-job\n"
     ]
    },
    {
     "data": {
      "text/html": [
       "<style>\n",
       "    table.wandb td:nth-child(1) { padding: 0 10px; text-align: left ; width: auto;} td:nth-child(2) {text-align: left ; width: 100%}\n",
       "    .wandb-row { display: flex; flex-direction: row; flex-wrap: wrap; justify-content: flex-start; width: 100% }\n",
       "    .wandb-col { display: flex; flex-direction: column; flex-basis: 100%; flex: 1; padding: 10px; }\n",
       "    </style>\n",
       "<div class=\"wandb-row\"><div class=\"wandb-col\"><h3>Run history:</h3><br/><table class=\"wandb\"><tr><td>accuracy</td><td>▁</td></tr></table><br/></div><div class=\"wandb-col\"><h3>Run summary:</h3><br/><table class=\"wandb\"><tr><td>accuracy</td><td>0.825</td></tr></table><br/></div></div>"
      ],
      "text/plain": [
       "<IPython.core.display.HTML object>"
      ]
     },
     "metadata": {},
     "output_type": "display_data"
    },
    {
     "data": {
      "text/html": [
       " View run <strong style=\"color:#cdcd00\">unique-surf-2</strong> at: <a href='https://wandb.ai/ftmoztl/catboost_example/runs/yesp73tc' target=\"_blank\">https://wandb.ai/ftmoztl/catboost_example/runs/yesp73tc</a><br/>Synced 4 W&B file(s), 0 media file(s), 0 artifact file(s) and 0 other file(s)"
      ],
      "text/plain": [
       "<IPython.core.display.HTML object>"
      ]
     },
     "metadata": {},
     "output_type": "display_data"
    },
    {
     "data": {
      "text/html": [
       "Find logs at: <code>./wandb/run-20230831_212907-yesp73tc/logs</code>"
      ],
      "text/plain": [
       "<IPython.core.display.HTML object>"
      ]
     },
     "metadata": {},
     "output_type": "display_data"
    },
    {
     "data": {
      "text/html": [
       "Tracking run with wandb version 0.15.9"
      ],
      "text/plain": [
       "<IPython.core.display.HTML object>"
      ]
     },
     "metadata": {},
     "output_type": "display_data"
    },
    {
     "data": {
      "text/html": [
       "Run data is saved locally in <code>/Users/fatmaoztel/Desktop/Fatima Projects/CTR-prediction/CTR-prediction/wandb/run-20230831_212916-c1mhh0w9</code>"
      ],
      "text/plain": [
       "<IPython.core.display.HTML object>"
      ]
     },
     "metadata": {},
     "output_type": "display_data"
    },
    {
     "data": {
      "text/html": [
       "Syncing run <strong><a href='https://wandb.ai/ftmoztl/catboost_example/runs/c1mhh0w9' target=\"_blank\">sleek-sunset-3</a></strong> to <a href='https://wandb.ai/ftmoztl/catboost_example' target=\"_blank\">Weights & Biases</a> (<a href='https://wandb.me/run' target=\"_blank\">docs</a>)<br/>"
      ],
      "text/plain": [
       "<IPython.core.display.HTML object>"
      ]
     },
     "metadata": {},
     "output_type": "display_data"
    },
    {
     "data": {
      "text/html": [
       " View project at <a href='https://wandb.ai/ftmoztl/catboost_example' target=\"_blank\">https://wandb.ai/ftmoztl/catboost_example</a>"
      ],
      "text/plain": [
       "<IPython.core.display.HTML object>"
      ]
     },
     "metadata": {},
     "output_type": "display_data"
    },
    {
     "data": {
      "text/html": [
       " View run at <a href='https://wandb.ai/ftmoztl/catboost_example/runs/c1mhh0w9' target=\"_blank\">https://wandb.ai/ftmoztl/catboost_example/runs/c1mhh0w9</a>"
      ],
      "text/plain": [
       "<IPython.core.display.HTML object>"
      ]
     },
     "metadata": {},
     "output_type": "display_data"
    },
    {
     "data": {
      "text/html": [
       "Waiting for W&B process to finish... <strong style=\"color:green\">(success).</strong>"
      ],
      "text/plain": [
       "<IPython.core.display.HTML object>"
      ]
     },
     "metadata": {},
     "output_type": "display_data"
    },
    {
     "name": "stderr",
     "output_type": "stream",
     "text": [
      "wandb: WARNING Source type is set to 'repo' but some required information is missing from the environment. A job will not be created from this run. See https://docs.wandb.ai/guides/launch/create-job\n"
     ]
    },
    {
     "data": {
      "text/html": [
       "<style>\n",
       "    table.wandb td:nth-child(1) { padding: 0 10px; text-align: left ; width: auto;} td:nth-child(2) {text-align: left ; width: 100%}\n",
       "    .wandb-row { display: flex; flex-direction: row; flex-wrap: wrap; justify-content: flex-start; width: 100% }\n",
       "    .wandb-col { display: flex; flex-direction: column; flex-basis: 100%; flex: 1; padding: 10px; }\n",
       "    </style>\n",
       "<div class=\"wandb-row\"><div class=\"wandb-col\"><h3>Run history:</h3><br/><table class=\"wandb\"><tr><td>accuracy</td><td>▁</td></tr></table><br/></div><div class=\"wandb-col\"><h3>Run summary:</h3><br/><table class=\"wandb\"><tr><td>accuracy</td><td>0.825</td></tr></table><br/></div></div>"
      ],
      "text/plain": [
       "<IPython.core.display.HTML object>"
      ]
     },
     "metadata": {},
     "output_type": "display_data"
    },
    {
     "data": {
      "text/html": [
       " View run <strong style=\"color:#cdcd00\">sleek-sunset-3</strong> at: <a href='https://wandb.ai/ftmoztl/catboost_example/runs/c1mhh0w9' target=\"_blank\">https://wandb.ai/ftmoztl/catboost_example/runs/c1mhh0w9</a><br/>Synced 4 W&B file(s), 0 media file(s), 0 artifact file(s) and 0 other file(s)"
      ],
      "text/plain": [
       "<IPython.core.display.HTML object>"
      ]
     },
     "metadata": {},
     "output_type": "display_data"
    },
    {
     "data": {
      "text/html": [
       "Find logs at: <code>./wandb/run-20230831_212916-c1mhh0w9/logs</code>"
      ],
      "text/plain": [
       "<IPython.core.display.HTML object>"
      ]
     },
     "metadata": {},
     "output_type": "display_data"
    },
    {
     "data": {
      "text/html": [
       "Tracking run with wandb version 0.15.9"
      ],
      "text/plain": [
       "<IPython.core.display.HTML object>"
      ]
     },
     "metadata": {},
     "output_type": "display_data"
    },
    {
     "data": {
      "text/html": [
       "Run data is saved locally in <code>/Users/fatmaoztel/Desktop/Fatima Projects/CTR-prediction/CTR-prediction/wandb/run-20230831_212925-a9hx9qfu</code>"
      ],
      "text/plain": [
       "<IPython.core.display.HTML object>"
      ]
     },
     "metadata": {},
     "output_type": "display_data"
    },
    {
     "data": {
      "text/html": [
       "Syncing run <strong><a href='https://wandb.ai/ftmoztl/catboost_example/runs/a9hx9qfu' target=\"_blank\">sparkling-silence-4</a></strong> to <a href='https://wandb.ai/ftmoztl/catboost_example' target=\"_blank\">Weights & Biases</a> (<a href='https://wandb.me/run' target=\"_blank\">docs</a>)<br/>"
      ],
      "text/plain": [
       "<IPython.core.display.HTML object>"
      ]
     },
     "metadata": {},
     "output_type": "display_data"
    },
    {
     "data": {
      "text/html": [
       " View project at <a href='https://wandb.ai/ftmoztl/catboost_example' target=\"_blank\">https://wandb.ai/ftmoztl/catboost_example</a>"
      ],
      "text/plain": [
       "<IPython.core.display.HTML object>"
      ]
     },
     "metadata": {},
     "output_type": "display_data"
    },
    {
     "data": {
      "text/html": [
       " View run at <a href='https://wandb.ai/ftmoztl/catboost_example/runs/a9hx9qfu' target=\"_blank\">https://wandb.ai/ftmoztl/catboost_example/runs/a9hx9qfu</a>"
      ],
      "text/plain": [
       "<IPython.core.display.HTML object>"
      ]
     },
     "metadata": {},
     "output_type": "display_data"
    },
    {
     "data": {
      "text/html": [
       "Waiting for W&B process to finish... <strong style=\"color:green\">(success).</strong>"
      ],
      "text/plain": [
       "<IPython.core.display.HTML object>"
      ]
     },
     "metadata": {},
     "output_type": "display_data"
    },
    {
     "name": "stderr",
     "output_type": "stream",
     "text": [
      "wandb: WARNING Source type is set to 'repo' but some required information is missing from the environment. A job will not be created from this run. See https://docs.wandb.ai/guides/launch/create-job\n"
     ]
    },
    {
     "data": {
      "text/html": [
       "<style>\n",
       "    table.wandb td:nth-child(1) { padding: 0 10px; text-align: left ; width: auto;} td:nth-child(2) {text-align: left ; width: 100%}\n",
       "    .wandb-row { display: flex; flex-direction: row; flex-wrap: wrap; justify-content: flex-start; width: 100% }\n",
       "    .wandb-col { display: flex; flex-direction: column; flex-basis: 100%; flex: 1; padding: 10px; }\n",
       "    </style>\n",
       "<div class=\"wandb-row\"><div class=\"wandb-col\"><h3>Run history:</h3><br/><table class=\"wandb\"><tr><td>accuracy</td><td>▁</td></tr></table><br/></div><div class=\"wandb-col\"><h3>Run summary:</h3><br/><table class=\"wandb\"><tr><td>accuracy</td><td>0.825</td></tr></table><br/></div></div>"
      ],
      "text/plain": [
       "<IPython.core.display.HTML object>"
      ]
     },
     "metadata": {},
     "output_type": "display_data"
    },
    {
     "data": {
      "text/html": [
       " View run <strong style=\"color:#cdcd00\">sparkling-silence-4</strong> at: <a href='https://wandb.ai/ftmoztl/catboost_example/runs/a9hx9qfu' target=\"_blank\">https://wandb.ai/ftmoztl/catboost_example/runs/a9hx9qfu</a><br/>Synced 4 W&B file(s), 0 media file(s), 0 artifact file(s) and 0 other file(s)"
      ],
      "text/plain": [
       "<IPython.core.display.HTML object>"
      ]
     },
     "metadata": {},
     "output_type": "display_data"
    },
    {
     "data": {
      "text/html": [
       "Find logs at: <code>./wandb/run-20230831_212925-a9hx9qfu/logs</code>"
      ],
      "text/plain": [
       "<IPython.core.display.HTML object>"
      ]
     },
     "metadata": {},
     "output_type": "display_data"
    },
    {
     "data": {
      "text/html": [
       "Tracking run with wandb version 0.15.9"
      ],
      "text/plain": [
       "<IPython.core.display.HTML object>"
      ]
     },
     "metadata": {},
     "output_type": "display_data"
    },
    {
     "data": {
      "text/html": [
       "Run data is saved locally in <code>/Users/fatmaoztel/Desktop/Fatima Projects/CTR-prediction/CTR-prediction/wandb/run-20230831_212959-zi8127n4</code>"
      ],
      "text/plain": [
       "<IPython.core.display.HTML object>"
      ]
     },
     "metadata": {},
     "output_type": "display_data"
    },
    {
     "data": {
      "text/html": [
       "Syncing run <strong><a href='https://wandb.ai/ftmoztl/catboost_example/runs/zi8127n4' target=\"_blank\">dazzling-monkey-5</a></strong> to <a href='https://wandb.ai/ftmoztl/catboost_example' target=\"_blank\">Weights & Biases</a> (<a href='https://wandb.me/run' target=\"_blank\">docs</a>)<br/>"
      ],
      "text/plain": [
       "<IPython.core.display.HTML object>"
      ]
     },
     "metadata": {},
     "output_type": "display_data"
    },
    {
     "data": {
      "text/html": [
       " View project at <a href='https://wandb.ai/ftmoztl/catboost_example' target=\"_blank\">https://wandb.ai/ftmoztl/catboost_example</a>"
      ],
      "text/plain": [
       "<IPython.core.display.HTML object>"
      ]
     },
     "metadata": {},
     "output_type": "display_data"
    },
    {
     "data": {
      "text/html": [
       " View run at <a href='https://wandb.ai/ftmoztl/catboost_example/runs/zi8127n4' target=\"_blank\">https://wandb.ai/ftmoztl/catboost_example/runs/zi8127n4</a>"
      ],
      "text/plain": [
       "<IPython.core.display.HTML object>"
      ]
     },
     "metadata": {},
     "output_type": "display_data"
    },
    {
     "data": {
      "text/html": [
       "Waiting for W&B process to finish... <strong style=\"color:green\">(success).</strong>"
      ],
      "text/plain": [
       "<IPython.core.display.HTML object>"
      ]
     },
     "metadata": {},
     "output_type": "display_data"
    },
    {
     "name": "stderr",
     "output_type": "stream",
     "text": [
      "wandb: WARNING Source type is set to 'repo' but some required information is missing from the environment. A job will not be created from this run. See https://docs.wandb.ai/guides/launch/create-job\n"
     ]
    },
    {
     "data": {
      "text/html": [
       "<style>\n",
       "    table.wandb td:nth-child(1) { padding: 0 10px; text-align: left ; width: auto;} td:nth-child(2) {text-align: left ; width: 100%}\n",
       "    .wandb-row { display: flex; flex-direction: row; flex-wrap: wrap; justify-content: flex-start; width: 100% }\n",
       "    .wandb-col { display: flex; flex-direction: column; flex-basis: 100%; flex: 1; padding: 10px; }\n",
       "    </style>\n",
       "<div class=\"wandb-row\"><div class=\"wandb-col\"><h3>Run history:</h3><br/><table class=\"wandb\"><tr><td>accuracy</td><td>▁</td></tr></table><br/></div><div class=\"wandb-col\"><h3>Run summary:</h3><br/><table class=\"wandb\"><tr><td>accuracy</td><td>0.825</td></tr></table><br/></div></div>"
      ],
      "text/plain": [
       "<IPython.core.display.HTML object>"
      ]
     },
     "metadata": {},
     "output_type": "display_data"
    },
    {
     "data": {
      "text/html": [
       " View run <strong style=\"color:#cdcd00\">dazzling-monkey-5</strong> at: <a href='https://wandb.ai/ftmoztl/catboost_example/runs/zi8127n4' target=\"_blank\">https://wandb.ai/ftmoztl/catboost_example/runs/zi8127n4</a><br/>Synced 4 W&B file(s), 0 media file(s), 0 artifact file(s) and 0 other file(s)"
      ],
      "text/plain": [
       "<IPython.core.display.HTML object>"
      ]
     },
     "metadata": {},
     "output_type": "display_data"
    },
    {
     "data": {
      "text/html": [
       "Find logs at: <code>./wandb/run-20230831_212959-zi8127n4/logs</code>"
      ],
      "text/plain": [
       "<IPython.core.display.HTML object>"
      ]
     },
     "metadata": {},
     "output_type": "display_data"
    },
    {
     "data": {
      "text/html": [
       "Tracking run with wandb version 0.15.9"
      ],
      "text/plain": [
       "<IPython.core.display.HTML object>"
      ]
     },
     "metadata": {},
     "output_type": "display_data"
    },
    {
     "data": {
      "text/html": [
       "Run data is saved locally in <code>/Users/fatmaoztel/Desktop/Fatima Projects/CTR-prediction/CTR-prediction/wandb/run-20230831_213013-2spayowm</code>"
      ],
      "text/plain": [
       "<IPython.core.display.HTML object>"
      ]
     },
     "metadata": {},
     "output_type": "display_data"
    },
    {
     "data": {
      "text/html": [
       "Syncing run <strong><a href='https://wandb.ai/ftmoztl/catboost_example/runs/2spayowm' target=\"_blank\">restful-paper-6</a></strong> to <a href='https://wandb.ai/ftmoztl/catboost_example' target=\"_blank\">Weights & Biases</a> (<a href='https://wandb.me/run' target=\"_blank\">docs</a>)<br/>"
      ],
      "text/plain": [
       "<IPython.core.display.HTML object>"
      ]
     },
     "metadata": {},
     "output_type": "display_data"
    },
    {
     "data": {
      "text/html": [
       " View project at <a href='https://wandb.ai/ftmoztl/catboost_example' target=\"_blank\">https://wandb.ai/ftmoztl/catboost_example</a>"
      ],
      "text/plain": [
       "<IPython.core.display.HTML object>"
      ]
     },
     "metadata": {},
     "output_type": "display_data"
    },
    {
     "data": {
      "text/html": [
       " View run at <a href='https://wandb.ai/ftmoztl/catboost_example/runs/2spayowm' target=\"_blank\">https://wandb.ai/ftmoztl/catboost_example/runs/2spayowm</a>"
      ],
      "text/plain": [
       "<IPython.core.display.HTML object>"
      ]
     },
     "metadata": {},
     "output_type": "display_data"
    },
    {
     "data": {
      "text/html": [
       "Waiting for W&B process to finish... <strong style=\"color:green\">(success).</strong>"
      ],
      "text/plain": [
       "<IPython.core.display.HTML object>"
      ]
     },
     "metadata": {},
     "output_type": "display_data"
    },
    {
     "name": "stderr",
     "output_type": "stream",
     "text": [
      "wandb: WARNING Source type is set to 'repo' but some required information is missing from the environment. A job will not be created from this run. See https://docs.wandb.ai/guides/launch/create-job\n"
     ]
    },
    {
     "data": {
      "text/html": [
       "<style>\n",
       "    table.wandb td:nth-child(1) { padding: 0 10px; text-align: left ; width: auto;} td:nth-child(2) {text-align: left ; width: 100%}\n",
       "    .wandb-row { display: flex; flex-direction: row; flex-wrap: wrap; justify-content: flex-start; width: 100% }\n",
       "    .wandb-col { display: flex; flex-direction: column; flex-basis: 100%; flex: 1; padding: 10px; }\n",
       "    </style>\n",
       "<div class=\"wandb-row\"><div class=\"wandb-col\"><h3>Run history:</h3><br/><table class=\"wandb\"><tr><td>accuracy</td><td>▁</td></tr></table><br/></div><div class=\"wandb-col\"><h3>Run summary:</h3><br/><table class=\"wandb\"><tr><td>accuracy</td><td>0.826</td></tr></table><br/></div></div>"
      ],
      "text/plain": [
       "<IPython.core.display.HTML object>"
      ]
     },
     "metadata": {},
     "output_type": "display_data"
    },
    {
     "data": {
      "text/html": [
       " View run <strong style=\"color:#cdcd00\">restful-paper-6</strong> at: <a href='https://wandb.ai/ftmoztl/catboost_example/runs/2spayowm' target=\"_blank\">https://wandb.ai/ftmoztl/catboost_example/runs/2spayowm</a><br/>Synced 4 W&B file(s), 0 media file(s), 0 artifact file(s) and 0 other file(s)"
      ],
      "text/plain": [
       "<IPython.core.display.HTML object>"
      ]
     },
     "metadata": {},
     "output_type": "display_data"
    },
    {
     "data": {
      "text/html": [
       "Find logs at: <code>./wandb/run-20230831_213013-2spayowm/logs</code>"
      ],
      "text/plain": [
       "<IPython.core.display.HTML object>"
      ]
     },
     "metadata": {},
     "output_type": "display_data"
    },
    {
     "data": {
      "text/html": [
       "Tracking run with wandb version 0.15.9"
      ],
      "text/plain": [
       "<IPython.core.display.HTML object>"
      ]
     },
     "metadata": {},
     "output_type": "display_data"
    },
    {
     "data": {
      "text/html": [
       "Run data is saved locally in <code>/Users/fatmaoztel/Desktop/Fatima Projects/CTR-prediction/CTR-prediction/wandb/run-20230831_213027-mro3mp00</code>"
      ],
      "text/plain": [
       "<IPython.core.display.HTML object>"
      ]
     },
     "metadata": {},
     "output_type": "display_data"
    },
    {
     "data": {
      "text/html": [
       "Syncing run <strong><a href='https://wandb.ai/ftmoztl/catboost_example/runs/mro3mp00' target=\"_blank\">woven-aardvark-7</a></strong> to <a href='https://wandb.ai/ftmoztl/catboost_example' target=\"_blank\">Weights & Biases</a> (<a href='https://wandb.me/run' target=\"_blank\">docs</a>)<br/>"
      ],
      "text/plain": [
       "<IPython.core.display.HTML object>"
      ]
     },
     "metadata": {},
     "output_type": "display_data"
    },
    {
     "data": {
      "text/html": [
       " View project at <a href='https://wandb.ai/ftmoztl/catboost_example' target=\"_blank\">https://wandb.ai/ftmoztl/catboost_example</a>"
      ],
      "text/plain": [
       "<IPython.core.display.HTML object>"
      ]
     },
     "metadata": {},
     "output_type": "display_data"
    },
    {
     "data": {
      "text/html": [
       " View run at <a href='https://wandb.ai/ftmoztl/catboost_example/runs/mro3mp00' target=\"_blank\">https://wandb.ai/ftmoztl/catboost_example/runs/mro3mp00</a>"
      ],
      "text/plain": [
       "<IPython.core.display.HTML object>"
      ]
     },
     "metadata": {},
     "output_type": "display_data"
    },
    {
     "data": {
      "text/html": [
       "Waiting for W&B process to finish... <strong style=\"color:green\">(success).</strong>"
      ],
      "text/plain": [
       "<IPython.core.display.HTML object>"
      ]
     },
     "metadata": {},
     "output_type": "display_data"
    },
    {
     "name": "stderr",
     "output_type": "stream",
     "text": [
      "wandb: WARNING Source type is set to 'repo' but some required information is missing from the environment. A job will not be created from this run. See https://docs.wandb.ai/guides/launch/create-job\n"
     ]
    },
    {
     "data": {
      "text/html": [
       "<style>\n",
       "    table.wandb td:nth-child(1) { padding: 0 10px; text-align: left ; width: auto;} td:nth-child(2) {text-align: left ; width: 100%}\n",
       "    .wandb-row { display: flex; flex-direction: row; flex-wrap: wrap; justify-content: flex-start; width: 100% }\n",
       "    .wandb-col { display: flex; flex-direction: column; flex-basis: 100%; flex: 1; padding: 10px; }\n",
       "    </style>\n",
       "<div class=\"wandb-row\"><div class=\"wandb-col\"><h3>Run history:</h3><br/><table class=\"wandb\"><tr><td>accuracy</td><td>▁</td></tr></table><br/></div><div class=\"wandb-col\"><h3>Run summary:</h3><br/><table class=\"wandb\"><tr><td>accuracy</td><td>0.825</td></tr></table><br/></div></div>"
      ],
      "text/plain": [
       "<IPython.core.display.HTML object>"
      ]
     },
     "metadata": {},
     "output_type": "display_data"
    },
    {
     "data": {
      "text/html": [
       " View run <strong style=\"color:#cdcd00\">woven-aardvark-7</strong> at: <a href='https://wandb.ai/ftmoztl/catboost_example/runs/mro3mp00' target=\"_blank\">https://wandb.ai/ftmoztl/catboost_example/runs/mro3mp00</a><br/>Synced 4 W&B file(s), 0 media file(s), 0 artifact file(s) and 0 other file(s)"
      ],
      "text/plain": [
       "<IPython.core.display.HTML object>"
      ]
     },
     "metadata": {},
     "output_type": "display_data"
    },
    {
     "data": {
      "text/html": [
       "Find logs at: <code>./wandb/run-20230831_213027-mro3mp00/logs</code>"
      ],
      "text/plain": [
       "<IPython.core.display.HTML object>"
      ]
     },
     "metadata": {},
     "output_type": "display_data"
    },
    {
     "data": {
      "text/html": [
       "Tracking run with wandb version 0.15.9"
      ],
      "text/plain": [
       "<IPython.core.display.HTML object>"
      ]
     },
     "metadata": {},
     "output_type": "display_data"
    },
    {
     "data": {
      "text/html": [
       "Run data is saved locally in <code>/Users/fatmaoztel/Desktop/Fatima Projects/CTR-prediction/CTR-prediction/wandb/run-20230831_213045-t5qnsirn</code>"
      ],
      "text/plain": [
       "<IPython.core.display.HTML object>"
      ]
     },
     "metadata": {},
     "output_type": "display_data"
    },
    {
     "data": {
      "text/html": [
       "Syncing run <strong><a href='https://wandb.ai/ftmoztl/catboost_example/runs/t5qnsirn' target=\"_blank\">icy-cloud-8</a></strong> to <a href='https://wandb.ai/ftmoztl/catboost_example' target=\"_blank\">Weights & Biases</a> (<a href='https://wandb.me/run' target=\"_blank\">docs</a>)<br/>"
      ],
      "text/plain": [
       "<IPython.core.display.HTML object>"
      ]
     },
     "metadata": {},
     "output_type": "display_data"
    },
    {
     "data": {
      "text/html": [
       " View project at <a href='https://wandb.ai/ftmoztl/catboost_example' target=\"_blank\">https://wandb.ai/ftmoztl/catboost_example</a>"
      ],
      "text/plain": [
       "<IPython.core.display.HTML object>"
      ]
     },
     "metadata": {},
     "output_type": "display_data"
    },
    {
     "data": {
      "text/html": [
       " View run at <a href='https://wandb.ai/ftmoztl/catboost_example/runs/t5qnsirn' target=\"_blank\">https://wandb.ai/ftmoztl/catboost_example/runs/t5qnsirn</a>"
      ],
      "text/plain": [
       "<IPython.core.display.HTML object>"
      ]
     },
     "metadata": {},
     "output_type": "display_data"
    },
    {
     "data": {
      "text/html": [
       "Waiting for W&B process to finish... <strong style=\"color:green\">(success).</strong>"
      ],
      "text/plain": [
       "<IPython.core.display.HTML object>"
      ]
     },
     "metadata": {},
     "output_type": "display_data"
    },
    {
     "name": "stderr",
     "output_type": "stream",
     "text": [
      "wandb: WARNING Source type is set to 'repo' but some required information is missing from the environment. A job will not be created from this run. See https://docs.wandb.ai/guides/launch/create-job\n"
     ]
    },
    {
     "data": {
      "text/html": [
       "<style>\n",
       "    table.wandb td:nth-child(1) { padding: 0 10px; text-align: left ; width: auto;} td:nth-child(2) {text-align: left ; width: 100%}\n",
       "    .wandb-row { display: flex; flex-direction: row; flex-wrap: wrap; justify-content: flex-start; width: 100% }\n",
       "    .wandb-col { display: flex; flex-direction: column; flex-basis: 100%; flex: 1; padding: 10px; }\n",
       "    </style>\n",
       "<div class=\"wandb-row\"><div class=\"wandb-col\"><h3>Run history:</h3><br/><table class=\"wandb\"><tr><td>accuracy</td><td>▁</td></tr></table><br/></div><div class=\"wandb-col\"><h3>Run summary:</h3><br/><table class=\"wandb\"><tr><td>accuracy</td><td>0.825</td></tr></table><br/></div></div>"
      ],
      "text/plain": [
       "<IPython.core.display.HTML object>"
      ]
     },
     "metadata": {},
     "output_type": "display_data"
    },
    {
     "data": {
      "text/html": [
       " View run <strong style=\"color:#cdcd00\">icy-cloud-8</strong> at: <a href='https://wandb.ai/ftmoztl/catboost_example/runs/t5qnsirn' target=\"_blank\">https://wandb.ai/ftmoztl/catboost_example/runs/t5qnsirn</a><br/>Synced 4 W&B file(s), 0 media file(s), 0 artifact file(s) and 0 other file(s)"
      ],
      "text/plain": [
       "<IPython.core.display.HTML object>"
      ]
     },
     "metadata": {},
     "output_type": "display_data"
    },
    {
     "data": {
      "text/html": [
       "Find logs at: <code>./wandb/run-20230831_213045-t5qnsirn/logs</code>"
      ],
      "text/plain": [
       "<IPython.core.display.HTML object>"
      ]
     },
     "metadata": {},
     "output_type": "display_data"
    },
    {
     "data": {
      "text/html": [
       "Tracking run with wandb version 0.15.9"
      ],
      "text/plain": [
       "<IPython.core.display.HTML object>"
      ]
     },
     "metadata": {},
     "output_type": "display_data"
    },
    {
     "data": {
      "text/html": [
       "Run data is saved locally in <code>/Users/fatmaoztel/Desktop/Fatima Projects/CTR-prediction/CTR-prediction/wandb/run-20230831_213054-jauuw0ep</code>"
      ],
      "text/plain": [
       "<IPython.core.display.HTML object>"
      ]
     },
     "metadata": {},
     "output_type": "display_data"
    },
    {
     "data": {
      "text/html": [
       "Syncing run <strong><a href='https://wandb.ai/ftmoztl/catboost_example/runs/jauuw0ep' target=\"_blank\">lyric-meadow-9</a></strong> to <a href='https://wandb.ai/ftmoztl/catboost_example' target=\"_blank\">Weights & Biases</a> (<a href='https://wandb.me/run' target=\"_blank\">docs</a>)<br/>"
      ],
      "text/plain": [
       "<IPython.core.display.HTML object>"
      ]
     },
     "metadata": {},
     "output_type": "display_data"
    },
    {
     "data": {
      "text/html": [
       " View project at <a href='https://wandb.ai/ftmoztl/catboost_example' target=\"_blank\">https://wandb.ai/ftmoztl/catboost_example</a>"
      ],
      "text/plain": [
       "<IPython.core.display.HTML object>"
      ]
     },
     "metadata": {},
     "output_type": "display_data"
    },
    {
     "data": {
      "text/html": [
       " View run at <a href='https://wandb.ai/ftmoztl/catboost_example/runs/jauuw0ep' target=\"_blank\">https://wandb.ai/ftmoztl/catboost_example/runs/jauuw0ep</a>"
      ],
      "text/plain": [
       "<IPython.core.display.HTML object>"
      ]
     },
     "metadata": {},
     "output_type": "display_data"
    },
    {
     "data": {
      "text/html": [
       "Waiting for W&B process to finish... <strong style=\"color:green\">(success).</strong>"
      ],
      "text/plain": [
       "<IPython.core.display.HTML object>"
      ]
     },
     "metadata": {},
     "output_type": "display_data"
    },
    {
     "name": "stderr",
     "output_type": "stream",
     "text": [
      "wandb: WARNING Source type is set to 'repo' but some required information is missing from the environment. A job will not be created from this run. See https://docs.wandb.ai/guides/launch/create-job\n"
     ]
    },
    {
     "data": {
      "text/html": [
       "<style>\n",
       "    table.wandb td:nth-child(1) { padding: 0 10px; text-align: left ; width: auto;} td:nth-child(2) {text-align: left ; width: 100%}\n",
       "    .wandb-row { display: flex; flex-direction: row; flex-wrap: wrap; justify-content: flex-start; width: 100% }\n",
       "    .wandb-col { display: flex; flex-direction: column; flex-basis: 100%; flex: 1; padding: 10px; }\n",
       "    </style>\n",
       "<div class=\"wandb-row\"><div class=\"wandb-col\"><h3>Run history:</h3><br/><table class=\"wandb\"><tr><td>accuracy</td><td>▁</td></tr></table><br/></div><div class=\"wandb-col\"><h3>Run summary:</h3><br/><table class=\"wandb\"><tr><td>accuracy</td><td>0.827</td></tr></table><br/></div></div>"
      ],
      "text/plain": [
       "<IPython.core.display.HTML object>"
      ]
     },
     "metadata": {},
     "output_type": "display_data"
    },
    {
     "data": {
      "text/html": [
       " View run <strong style=\"color:#cdcd00\">lyric-meadow-9</strong> at: <a href='https://wandb.ai/ftmoztl/catboost_example/runs/jauuw0ep' target=\"_blank\">https://wandb.ai/ftmoztl/catboost_example/runs/jauuw0ep</a><br/>Synced 4 W&B file(s), 0 media file(s), 0 artifact file(s) and 0 other file(s)"
      ],
      "text/plain": [
       "<IPython.core.display.HTML object>"
      ]
     },
     "metadata": {},
     "output_type": "display_data"
    },
    {
     "data": {
      "text/html": [
       "Find logs at: <code>./wandb/run-20230831_213054-jauuw0ep/logs</code>"
      ],
      "text/plain": [
       "<IPython.core.display.HTML object>"
      ]
     },
     "metadata": {},
     "output_type": "display_data"
    },
    {
     "data": {
      "text/html": [
       "Tracking run with wandb version 0.15.9"
      ],
      "text/plain": [
       "<IPython.core.display.HTML object>"
      ]
     },
     "metadata": {},
     "output_type": "display_data"
    },
    {
     "data": {
      "text/html": [
       "Run data is saved locally in <code>/Users/fatmaoztel/Desktop/Fatima Projects/CTR-prediction/CTR-prediction/wandb/run-20230831_213107-01t1n74e</code>"
      ],
      "text/plain": [
       "<IPython.core.display.HTML object>"
      ]
     },
     "metadata": {},
     "output_type": "display_data"
    },
    {
     "data": {
      "text/html": [
       "Syncing run <strong><a href='https://wandb.ai/ftmoztl/catboost_example/runs/01t1n74e' target=\"_blank\">exalted-wind-10</a></strong> to <a href='https://wandb.ai/ftmoztl/catboost_example' target=\"_blank\">Weights & Biases</a> (<a href='https://wandb.me/run' target=\"_blank\">docs</a>)<br/>"
      ],
      "text/plain": [
       "<IPython.core.display.HTML object>"
      ]
     },
     "metadata": {},
     "output_type": "display_data"
    },
    {
     "data": {
      "text/html": [
       " View project at <a href='https://wandb.ai/ftmoztl/catboost_example' target=\"_blank\">https://wandb.ai/ftmoztl/catboost_example</a>"
      ],
      "text/plain": [
       "<IPython.core.display.HTML object>"
      ]
     },
     "metadata": {},
     "output_type": "display_data"
    },
    {
     "data": {
      "text/html": [
       " View run at <a href='https://wandb.ai/ftmoztl/catboost_example/runs/01t1n74e' target=\"_blank\">https://wandb.ai/ftmoztl/catboost_example/runs/01t1n74e</a>"
      ],
      "text/plain": [
       "<IPython.core.display.HTML object>"
      ]
     },
     "metadata": {},
     "output_type": "display_data"
    },
    {
     "data": {
      "text/html": [
       "Waiting for W&B process to finish... <strong style=\"color:green\">(success).</strong>"
      ],
      "text/plain": [
       "<IPython.core.display.HTML object>"
      ]
     },
     "metadata": {},
     "output_type": "display_data"
    },
    {
     "name": "stderr",
     "output_type": "stream",
     "text": [
      "wandb: WARNING Source type is set to 'repo' but some required information is missing from the environment. A job will not be created from this run. See https://docs.wandb.ai/guides/launch/create-job\n"
     ]
    },
    {
     "data": {
      "text/html": [
       "<style>\n",
       "    table.wandb td:nth-child(1) { padding: 0 10px; text-align: left ; width: auto;} td:nth-child(2) {text-align: left ; width: 100%}\n",
       "    .wandb-row { display: flex; flex-direction: row; flex-wrap: wrap; justify-content: flex-start; width: 100% }\n",
       "    .wandb-col { display: flex; flex-direction: column; flex-basis: 100%; flex: 1; padding: 10px; }\n",
       "    </style>\n",
       "<div class=\"wandb-row\"><div class=\"wandb-col\"><h3>Run history:</h3><br/><table class=\"wandb\"><tr><td>accuracy</td><td>▁</td></tr></table><br/></div><div class=\"wandb-col\"><h3>Run summary:</h3><br/><table class=\"wandb\"><tr><td>accuracy</td><td>0.827</td></tr></table><br/></div></div>"
      ],
      "text/plain": [
       "<IPython.core.display.HTML object>"
      ]
     },
     "metadata": {},
     "output_type": "display_data"
    },
    {
     "data": {
      "text/html": [
       " View run <strong style=\"color:#cdcd00\">exalted-wind-10</strong> at: <a href='https://wandb.ai/ftmoztl/catboost_example/runs/01t1n74e' target=\"_blank\">https://wandb.ai/ftmoztl/catboost_example/runs/01t1n74e</a><br/>Synced 4 W&B file(s), 0 media file(s), 0 artifact file(s) and 0 other file(s)"
      ],
      "text/plain": [
       "<IPython.core.display.HTML object>"
      ]
     },
     "metadata": {},
     "output_type": "display_data"
    },
    {
     "data": {
      "text/html": [
       "Find logs at: <code>./wandb/run-20230831_213107-01t1n74e/logs</code>"
      ],
      "text/plain": [
       "<IPython.core.display.HTML object>"
      ]
     },
     "metadata": {},
     "output_type": "display_data"
    },
    {
     "data": {
      "text/html": [
       "Tracking run with wandb version 0.15.9"
      ],
      "text/plain": [
       "<IPython.core.display.HTML object>"
      ]
     },
     "metadata": {},
     "output_type": "display_data"
    },
    {
     "data": {
      "text/html": [
       "Run data is saved locally in <code>/Users/fatmaoztel/Desktop/Fatima Projects/CTR-prediction/CTR-prediction/wandb/run-20230831_213116-ruc8c6wz</code>"
      ],
      "text/plain": [
       "<IPython.core.display.HTML object>"
      ]
     },
     "metadata": {},
     "output_type": "display_data"
    },
    {
     "data": {
      "text/html": [
       "Syncing run <strong><a href='https://wandb.ai/ftmoztl/catboost_example/runs/ruc8c6wz' target=\"_blank\">trim-sound-11</a></strong> to <a href='https://wandb.ai/ftmoztl/catboost_example' target=\"_blank\">Weights & Biases</a> (<a href='https://wandb.me/run' target=\"_blank\">docs</a>)<br/>"
      ],
      "text/plain": [
       "<IPython.core.display.HTML object>"
      ]
     },
     "metadata": {},
     "output_type": "display_data"
    },
    {
     "data": {
      "text/html": [
       " View project at <a href='https://wandb.ai/ftmoztl/catboost_example' target=\"_blank\">https://wandb.ai/ftmoztl/catboost_example</a>"
      ],
      "text/plain": [
       "<IPython.core.display.HTML object>"
      ]
     },
     "metadata": {},
     "output_type": "display_data"
    },
    {
     "data": {
      "text/html": [
       " View run at <a href='https://wandb.ai/ftmoztl/catboost_example/runs/ruc8c6wz' target=\"_blank\">https://wandb.ai/ftmoztl/catboost_example/runs/ruc8c6wz</a>"
      ],
      "text/plain": [
       "<IPython.core.display.HTML object>"
      ]
     },
     "metadata": {},
     "output_type": "display_data"
    },
    {
     "data": {
      "text/html": [
       "Waiting for W&B process to finish... <strong style=\"color:green\">(success).</strong>"
      ],
      "text/plain": [
       "<IPython.core.display.HTML object>"
      ]
     },
     "metadata": {},
     "output_type": "display_data"
    },
    {
     "name": "stderr",
     "output_type": "stream",
     "text": [
      "wandb: WARNING Source type is set to 'repo' but some required information is missing from the environment. A job will not be created from this run. See https://docs.wandb.ai/guides/launch/create-job\n"
     ]
    },
    {
     "data": {
      "text/html": [
       "<style>\n",
       "    table.wandb td:nth-child(1) { padding: 0 10px; text-align: left ; width: auto;} td:nth-child(2) {text-align: left ; width: 100%}\n",
       "    .wandb-row { display: flex; flex-direction: row; flex-wrap: wrap; justify-content: flex-start; width: 100% }\n",
       "    .wandb-col { display: flex; flex-direction: column; flex-basis: 100%; flex: 1; padding: 10px; }\n",
       "    </style>\n",
       "<div class=\"wandb-row\"><div class=\"wandb-col\"><h3>Run history:</h3><br/><table class=\"wandb\"><tr><td>accuracy</td><td>▁</td></tr></table><br/></div><div class=\"wandb-col\"><h3>Run summary:</h3><br/><table class=\"wandb\"><tr><td>accuracy</td><td>0.825</td></tr></table><br/></div></div>"
      ],
      "text/plain": [
       "<IPython.core.display.HTML object>"
      ]
     },
     "metadata": {},
     "output_type": "display_data"
    },
    {
     "data": {
      "text/html": [
       " View run <strong style=\"color:#cdcd00\">trim-sound-11</strong> at: <a href='https://wandb.ai/ftmoztl/catboost_example/runs/ruc8c6wz' target=\"_blank\">https://wandb.ai/ftmoztl/catboost_example/runs/ruc8c6wz</a><br/>Synced 4 W&B file(s), 0 media file(s), 0 artifact file(s) and 0 other file(s)"
      ],
      "text/plain": [
       "<IPython.core.display.HTML object>"
      ]
     },
     "metadata": {},
     "output_type": "display_data"
    },
    {
     "data": {
      "text/html": [
       "Find logs at: <code>./wandb/run-20230831_213116-ruc8c6wz/logs</code>"
      ],
      "text/plain": [
       "<IPython.core.display.HTML object>"
      ]
     },
     "metadata": {},
     "output_type": "display_data"
    },
    {
     "data": {
      "text/html": [
       "Tracking run with wandb version 0.15.9"
      ],
      "text/plain": [
       "<IPython.core.display.HTML object>"
      ]
     },
     "metadata": {},
     "output_type": "display_data"
    },
    {
     "data": {
      "text/html": [
       "Run data is saved locally in <code>/Users/fatmaoztel/Desktop/Fatima Projects/CTR-prediction/CTR-prediction/wandb/run-20230831_213123-lekslzji</code>"
      ],
      "text/plain": [
       "<IPython.core.display.HTML object>"
      ]
     },
     "metadata": {},
     "output_type": "display_data"
    },
    {
     "data": {
      "text/html": [
       "Syncing run <strong><a href='https://wandb.ai/ftmoztl/catboost_example/runs/lekslzji' target=\"_blank\">devoted-star-12</a></strong> to <a href='https://wandb.ai/ftmoztl/catboost_example' target=\"_blank\">Weights & Biases</a> (<a href='https://wandb.me/run' target=\"_blank\">docs</a>)<br/>"
      ],
      "text/plain": [
       "<IPython.core.display.HTML object>"
      ]
     },
     "metadata": {},
     "output_type": "display_data"
    },
    {
     "data": {
      "text/html": [
       " View project at <a href='https://wandb.ai/ftmoztl/catboost_example' target=\"_blank\">https://wandb.ai/ftmoztl/catboost_example</a>"
      ],
      "text/plain": [
       "<IPython.core.display.HTML object>"
      ]
     },
     "metadata": {},
     "output_type": "display_data"
    },
    {
     "data": {
      "text/html": [
       " View run at <a href='https://wandb.ai/ftmoztl/catboost_example/runs/lekslzji' target=\"_blank\">https://wandb.ai/ftmoztl/catboost_example/runs/lekslzji</a>"
      ],
      "text/plain": [
       "<IPython.core.display.HTML object>"
      ]
     },
     "metadata": {},
     "output_type": "display_data"
    },
    {
     "data": {
      "text/html": [
       "Waiting for W&B process to finish... <strong style=\"color:green\">(success).</strong>"
      ],
      "text/plain": [
       "<IPython.core.display.HTML object>"
      ]
     },
     "metadata": {},
     "output_type": "display_data"
    },
    {
     "name": "stderr",
     "output_type": "stream",
     "text": [
      "wandb: WARNING Source type is set to 'repo' but some required information is missing from the environment. A job will not be created from this run. See https://docs.wandb.ai/guides/launch/create-job\n"
     ]
    },
    {
     "data": {
      "text/html": [
       "<style>\n",
       "    table.wandb td:nth-child(1) { padding: 0 10px; text-align: left ; width: auto;} td:nth-child(2) {text-align: left ; width: 100%}\n",
       "    .wandb-row { display: flex; flex-direction: row; flex-wrap: wrap; justify-content: flex-start; width: 100% }\n",
       "    .wandb-col { display: flex; flex-direction: column; flex-basis: 100%; flex: 1; padding: 10px; }\n",
       "    </style>\n",
       "<div class=\"wandb-row\"><div class=\"wandb-col\"><h3>Run history:</h3><br/><table class=\"wandb\"><tr><td>accuracy</td><td>▁</td></tr></table><br/></div><div class=\"wandb-col\"><h3>Run summary:</h3><br/><table class=\"wandb\"><tr><td>accuracy</td><td>0.825</td></tr></table><br/></div></div>"
      ],
      "text/plain": [
       "<IPython.core.display.HTML object>"
      ]
     },
     "metadata": {},
     "output_type": "display_data"
    },
    {
     "data": {
      "text/html": [
       " View run <strong style=\"color:#cdcd00\">devoted-star-12</strong> at: <a href='https://wandb.ai/ftmoztl/catboost_example/runs/lekslzji' target=\"_blank\">https://wandb.ai/ftmoztl/catboost_example/runs/lekslzji</a><br/>Synced 4 W&B file(s), 0 media file(s), 0 artifact file(s) and 0 other file(s)"
      ],
      "text/plain": [
       "<IPython.core.display.HTML object>"
      ]
     },
     "metadata": {},
     "output_type": "display_data"
    },
    {
     "data": {
      "text/html": [
       "Find logs at: <code>./wandb/run-20230831_213123-lekslzji/logs</code>"
      ],
      "text/plain": [
       "<IPython.core.display.HTML object>"
      ]
     },
     "metadata": {},
     "output_type": "display_data"
    },
    {
     "data": {
      "text/html": [
       "Tracking run with wandb version 0.15.9"
      ],
      "text/plain": [
       "<IPython.core.display.HTML object>"
      ]
     },
     "metadata": {},
     "output_type": "display_data"
    },
    {
     "data": {
      "text/html": [
       "Run data is saved locally in <code>/Users/fatmaoztel/Desktop/Fatima Projects/CTR-prediction/CTR-prediction/wandb/run-20230831_213132-liignt2m</code>"
      ],
      "text/plain": [
       "<IPython.core.display.HTML object>"
      ]
     },
     "metadata": {},
     "output_type": "display_data"
    },
    {
     "data": {
      "text/html": [
       "Syncing run <strong><a href='https://wandb.ai/ftmoztl/catboost_example/runs/liignt2m' target=\"_blank\">logical-energy-13</a></strong> to <a href='https://wandb.ai/ftmoztl/catboost_example' target=\"_blank\">Weights & Biases</a> (<a href='https://wandb.me/run' target=\"_blank\">docs</a>)<br/>"
      ],
      "text/plain": [
       "<IPython.core.display.HTML object>"
      ]
     },
     "metadata": {},
     "output_type": "display_data"
    },
    {
     "data": {
      "text/html": [
       " View project at <a href='https://wandb.ai/ftmoztl/catboost_example' target=\"_blank\">https://wandb.ai/ftmoztl/catboost_example</a>"
      ],
      "text/plain": [
       "<IPython.core.display.HTML object>"
      ]
     },
     "metadata": {},
     "output_type": "display_data"
    },
    {
     "data": {
      "text/html": [
       " View run at <a href='https://wandb.ai/ftmoztl/catboost_example/runs/liignt2m' target=\"_blank\">https://wandb.ai/ftmoztl/catboost_example/runs/liignt2m</a>"
      ],
      "text/plain": [
       "<IPython.core.display.HTML object>"
      ]
     },
     "metadata": {},
     "output_type": "display_data"
    },
    {
     "data": {
      "text/html": [
       "Waiting for W&B process to finish... <strong style=\"color:red\">(failed 1).</strong> Press Control-C to abort syncing."
      ],
      "text/plain": [
       "<IPython.core.display.HTML object>"
      ]
     },
     "metadata": {},
     "output_type": "display_data"
    },
    {
     "name": "stderr",
     "output_type": "stream",
     "text": [
      "wandb: WARNING Source type is set to 'repo' but some required information is missing from the environment. A job will not be created from this run. See https://docs.wandb.ai/guides/launch/create-job\n"
     ]
    },
    {
     "data": {
      "text/html": [
       " View run <strong style=\"color:#cdcd00\">logical-energy-13</strong> at: <a href='https://wandb.ai/ftmoztl/catboost_example/runs/liignt2m' target=\"_blank\">https://wandb.ai/ftmoztl/catboost_example/runs/liignt2m</a><br/>Synced 4 W&B file(s), 0 media file(s), 0 artifact file(s) and 0 other file(s)"
      ],
      "text/plain": [
       "<IPython.core.display.HTML object>"
      ]
     },
     "metadata": {},
     "output_type": "display_data"
    },
    {
     "data": {
      "text/html": [
       "Find logs at: <code>./wandb/run-20230831_213132-liignt2m/logs</code>"
      ],
      "text/plain": [
       "<IPython.core.display.HTML object>"
      ]
     },
     "metadata": {},
     "output_type": "display_data"
    },
    {
     "ename": "KeyboardInterrupt",
     "evalue": "",
     "output_type": "error",
     "traceback": [
      "\u001b[0;31m---------------------------------------------------------------------------\u001b[0m",
      "\u001b[0;31mKeyboardInterrupt\u001b[0m                         Traceback (most recent call last)",
      "Cell \u001b[0;32mIn[17], line 41\u001b[0m\n\u001b[1;32m     32\u001b[0m model \u001b[39m=\u001b[39m CatBoostClassifier(\n\u001b[1;32m     33\u001b[0m     learning_rate\u001b[39m=\u001b[39mlr,\n\u001b[1;32m     34\u001b[0m     depth\u001b[39m=\u001b[39mdepth,\n\u001b[0;32m   (...)\u001b[0m\n\u001b[1;32m     37\u001b[0m     verbose\u001b[39m=\u001b[39m\u001b[39m0\u001b[39m\n\u001b[1;32m     38\u001b[0m )\n\u001b[1;32m     40\u001b[0m \u001b[39m# Train the model\u001b[39;00m\n\u001b[0;32m---> 41\u001b[0m model\u001b[39m.\u001b[39;49mfit(X_train, y_train, eval_set\u001b[39m=\u001b[39;49m(X_valid, y_valid))\n\u001b[1;32m     43\u001b[0m \u001b[39m# Make predictions\u001b[39;00m\n\u001b[1;32m     44\u001b[0m y_pred \u001b[39m=\u001b[39m model\u001b[39m.\u001b[39mpredict(X_test)\n",
      "File \u001b[0;32m/opt/homebrew/lib/python3.11/site-packages/catboost/core.py:5100\u001b[0m, in \u001b[0;36mCatBoostClassifier.fit\u001b[0;34m(self, X, y, cat_features, text_features, embedding_features, sample_weight, baseline, use_best_model, eval_set, verbose, logging_level, plot, plot_file, column_description, verbose_eval, metric_period, silent, early_stopping_rounds, save_snapshot, snapshot_file, snapshot_interval, init_model, callbacks, log_cout, log_cerr)\u001b[0m\n\u001b[1;32m   5097\u001b[0m \u001b[39mif\u001b[39;00m \u001b[39m'\u001b[39m\u001b[39mloss_function\u001b[39m\u001b[39m'\u001b[39m \u001b[39min\u001b[39;00m params:\n\u001b[1;32m   5098\u001b[0m     CatBoostClassifier\u001b[39m.\u001b[39m_check_is_compatible_loss(params[\u001b[39m'\u001b[39m\u001b[39mloss_function\u001b[39m\u001b[39m'\u001b[39m])\n\u001b[0;32m-> 5100\u001b[0m \u001b[39mself\u001b[39;49m\u001b[39m.\u001b[39;49m_fit(X, y, cat_features, text_features, embedding_features, \u001b[39mNone\u001b[39;49;00m, sample_weight, \u001b[39mNone\u001b[39;49;00m, \u001b[39mNone\u001b[39;49;00m, \u001b[39mNone\u001b[39;49;00m, \u001b[39mNone\u001b[39;49;00m, baseline, use_best_model,\n\u001b[1;32m   5101\u001b[0m           eval_set, verbose, logging_level, plot, plot_file, column_description, verbose_eval, metric_period,\n\u001b[1;32m   5102\u001b[0m           silent, early_stopping_rounds, save_snapshot, snapshot_file, snapshot_interval, init_model, callbacks, log_cout, log_cerr)\n\u001b[1;32m   5103\u001b[0m \u001b[39mreturn\u001b[39;00m \u001b[39mself\u001b[39m\n",
      "File \u001b[0;32m/opt/homebrew/lib/python3.11/site-packages/catboost/core.py:2319\u001b[0m, in \u001b[0;36mCatBoost._fit\u001b[0;34m(self, X, y, cat_features, text_features, embedding_features, pairs, sample_weight, group_id, group_weight, subgroup_id, pairs_weight, baseline, use_best_model, eval_set, verbose, logging_level, plot, plot_file, column_description, verbose_eval, metric_period, silent, early_stopping_rounds, save_snapshot, snapshot_file, snapshot_interval, init_model, callbacks, log_cout, log_cerr)\u001b[0m\n\u001b[1;32m   2315\u001b[0m allow_clear_pool \u001b[39m=\u001b[39m train_params[\u001b[39m\"\u001b[39m\u001b[39mallow_clear_pool\u001b[39m\u001b[39m\"\u001b[39m]\n\u001b[1;32m   2317\u001b[0m \u001b[39mwith\u001b[39;00m log_fixup(log_cout, log_cerr), \\\n\u001b[1;32m   2318\u001b[0m     plot_wrapper(plot, plot_file, \u001b[39m'\u001b[39m\u001b[39mTraining plots\u001b[39m\u001b[39m'\u001b[39m, [_get_train_dir(\u001b[39mself\u001b[39m\u001b[39m.\u001b[39mget_params())]):\n\u001b[0;32m-> 2319\u001b[0m     \u001b[39mself\u001b[39;49m\u001b[39m.\u001b[39;49m_train(\n\u001b[1;32m   2320\u001b[0m         train_pool,\n\u001b[1;32m   2321\u001b[0m         train_params[\u001b[39m\"\u001b[39;49m\u001b[39meval_sets\u001b[39;49m\u001b[39m\"\u001b[39;49m],\n\u001b[1;32m   2322\u001b[0m         params,\n\u001b[1;32m   2323\u001b[0m         allow_clear_pool,\n\u001b[1;32m   2324\u001b[0m         train_params[\u001b[39m\"\u001b[39;49m\u001b[39minit_model\u001b[39;49m\u001b[39m\"\u001b[39;49m]\n\u001b[1;32m   2325\u001b[0m     )\n\u001b[1;32m   2327\u001b[0m \u001b[39m# Have property feature_importance possibly set\u001b[39;00m\n\u001b[1;32m   2328\u001b[0m loss \u001b[39m=\u001b[39m \u001b[39mself\u001b[39m\u001b[39m.\u001b[39m_object\u001b[39m.\u001b[39m_get_loss_function_name()\n",
      "File \u001b[0;32m/opt/homebrew/lib/python3.11/site-packages/catboost/core.py:1723\u001b[0m, in \u001b[0;36m_CatBoostBase._train\u001b[0;34m(self, train_pool, test_pool, params, allow_clear_pool, init_model)\u001b[0m\n\u001b[1;32m   1722\u001b[0m \u001b[39mdef\u001b[39;00m \u001b[39m_train\u001b[39m(\u001b[39mself\u001b[39m, train_pool, test_pool, params, allow_clear_pool, init_model):\n\u001b[0;32m-> 1723\u001b[0m     \u001b[39mself\u001b[39;49m\u001b[39m.\u001b[39;49m_object\u001b[39m.\u001b[39;49m_train(train_pool, test_pool, params, allow_clear_pool, init_model\u001b[39m.\u001b[39;49m_object \u001b[39mif\u001b[39;49;00m init_model \u001b[39melse\u001b[39;49;00m \u001b[39mNone\u001b[39;49;00m)\n\u001b[1;32m   1724\u001b[0m     \u001b[39mself\u001b[39m\u001b[39m.\u001b[39m_set_trained_model_attributes()\n",
      "File \u001b[0;32m_catboost.pyx:4625\u001b[0m, in \u001b[0;36m_catboost._CatBoost._train\u001b[0;34m()\u001b[0m\n",
      "File \u001b[0;32m_catboost.pyx:4674\u001b[0m, in \u001b[0;36m_catboost._CatBoost._train\u001b[0;34m()\u001b[0m\n",
      "\u001b[0;31mKeyboardInterrupt\u001b[0m: "
     ]
    }
   ],
   "source": [
    "import wandb\n",
    "from catboost import CatBoostClassifier, Pool\n",
    "from sklearn.metrics import accuracy_score\n",
    "\n",
    "# Initialize wandb and log in with your API key\n",
    "#wandb.login(api_key=\"YOUR_API_KEY\")\n",
    "\n",
    "# Create a W&B project\n",
    "wandb.init(project=\"ctr-prediction\")\n",
    "\n",
    "# Define hyperparameter search space (you can customize this)\n",
    "param_grid = {\n",
    "    'learning_rate': [0.01, 0.1, 0.2],\n",
    "    'depth': [4, 6, 8],\n",
    "    'iterations': [100, 200, 300]\n",
    "}\n",
    "\n",
    "# Iterate over hyperparameter combinations\n",
    "best_accuracy = 0.0\n",
    "best_params = {}\n",
    "for lr in param_grid['learning_rate']:\n",
    "    for depth in param_grid['depth']:\n",
    "        for iterations in param_grid['iterations']:\n",
    "            # Initialize a run for each hyperparameter combination\n",
    "            with wandb.init(project=\"ctr-prediction\"):\n",
    "                # Store hyperparameters in the config object\n",
    "                wandb.config.learning_rate = lr\n",
    "                wandb.config.depth = depth\n",
    "                wandb.config.iterations = iterations\n",
    "                \n",
    "                # Create CatBoost model with current hyperparameters\n",
    "                model = CatBoostClassifier(\n",
    "                    learning_rate=lr,\n",
    "                    depth=depth,\n",
    "                    iterations=iterations,\n",
    "                    cat_features=cat_features,  # Add your categorical feature indices here\n",
    "                    verbose=0\n",
    "                )\n",
    "                \n",
    "                # Train the model\n",
    "                model.fit(X_train, y_train, eval_set=(X_valid, y_valid))\n",
    "                \n",
    "                # Make predictions\n",
    "                y_pred = model.predict(X_test)\n",
    "                \n",
    "                # Calculate accuracy\n",
    "                accuracy = accuracy_score(y_test, y_pred)\n",
    "                \n",
    "                # Log accuracy in W&B\n",
    "                wandb.log({\"accuracy\": accuracy})\n",
    "                \n",
    "                # Finish the run\n",
    "                \n",
    "                # Update best parameters if necessary\n",
    "                if accuracy > best_accuracy:\n",
    "                    best_accuracy = accuracy\n",
    "                    best_params = {\"learning_rate\": lr, \"depth\": depth, \"iterations\": iterations}\n",
    "\n",
    "# Log best parameters\n",
    "wandb.config.best_params = best_params\n",
    "\n",
    "# Log best accuracy\n",
    "wandb.run.summary[\"best_accuracy\"] = best_accuracy\n"
   ]
  },
  {
   "cell_type": "code",
   "execution_count": null,
   "metadata": {},
   "outputs": [],
   "source": []
  }
 ],
 "metadata": {
  "kernelspec": {
   "display_name": "Python 3",
   "language": "python",
   "name": "python3"
  },
  "language_info": {
   "codemirror_mode": {
    "name": "ipython",
    "version": 3
   },
   "file_extension": ".py",
   "mimetype": "text/x-python",
   "name": "python",
   "nbconvert_exporter": "python",
   "pygments_lexer": "ipython3",
   "version": "3.11.2"
  },
  "orig_nbformat": 4
 },
 "nbformat": 4,
 "nbformat_minor": 2
}
