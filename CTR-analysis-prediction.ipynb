{
 "cells": [
  {
   "cell_type": "code",
   "execution_count": 19,
   "metadata": {},
   "outputs": [],
   "source": [
    "import pandas as pd\n",
    "import numpy as np\n",
    "import seaborn as sns\n",
    "import matplotlib.pyplot as plt\n",
    "import random"
   ]
  },
  {
   "cell_type": "code",
   "execution_count": 12,
   "metadata": {},
   "outputs": [],
   "source": [
    "# read dataset\n",
    "\n",
    "df_train = pd.read_csv(\"/Users/fatmaoztel/Desktop/avazu-ctr-prediction/train\", sep=\",\")\n",
    "df_test = pd.read_csv(\"/Users/fatmaoztel/Desktop/avazu-ctr-prediction/test\", sep=\",\")"
   ]
  },
  {
   "cell_type": "code",
   "execution_count": 20,
   "metadata": {},
   "outputs": [],
   "source": [
    "seed_value = 42  # seed for reproducibility\n",
    "random.seed(seed_value)\n",
    "\n",
    "n = 40428967  # total number of records in the clickstream data \n",
    "sample_size = 1000000\n",
    "skip_values = sorted(random.sample(range(1,n), n-sample_size)) # sort to skip with more efficient way\n",
    "parse_date = lambda val : pd.datetime.strptime(val, '%y%m%d%H')"
   ]
  },
  {
   "cell_type": "code",
   "execution_count": 22,
   "metadata": {},
   "outputs": [],
   "source": [
    "# indicate the datatypes to use in the reading process\n",
    "\n",
    "dtype={'id': np.dtype(int),\n",
    "    'click': np.dtype(int),\n",
    "    'hour': np.dtype(str),\n",
    "    'C1': np.dtype(str),\n",
    "    'banner_pos': np.dtype(str),\n",
    "    'site_id': np.dtype(str),\n",
    "    'site_domain': np.dtype(str), \n",
    "    'site_category': np.dtype(str),\n",
    "    'app_id': np.dtype(str),\n",
    "    'app_domain': np.dtype(str),\n",
    "    'app_category': np.dtype(str),\n",
    "    'device_id': np.dtype(str),\n",
    "    'device_ip': np.dtype(str),\n",
    "    'device_model': np.dtype(str),\n",
    "    'device_type': np.dtype(str),\n",
    "    'device_conn_type': np.dtype(str),\n",
    "    'C14': np.dtype(str),\n",
    "    'C15': np.dtype(str),\n",
    "    'C16': np.dtype(str),\n",
    "    'C17': np.dtype(str),\n",
    "    'C18': np.dtype(str),\n",
    "    'C19': np.dtype(str),\n",
    "    'C20': np.dtype(str),\n",
    "    'C21':np.dtype(str)\n",
    "      }#"
   ]
  },
  {
   "cell_type": "code",
   "execution_count": 23,
   "metadata": {},
   "outputs": [
    {
     "name": "stderr",
     "output_type": "stream",
     "text": [
      "/var/folders/j9/scnjt0d57q3_lzqgdfj4j43r0000gn/T/ipykernel_18899/2325265658.py:4: FutureWarning: The pandas.datetime class is deprecated and will be removed from pandas in a future version. Import from datetime module instead.\n",
      "  parse_date = lambda val : pd.datetime.strptime(val, '%y%m%d%H')\n"
     ]
    },
    {
     "name": "stdout",
     "output_type": "stream",
     "text": [
      "Train dataset: (1000000, 24)\n",
      "Test dataset: (4577464, 23)\n",
      "Submission: (4577464, 2)\n"
     ]
    }
   ],
   "source": [
    "train = pd.read_csv(\"/Users/fatmaoztel/Desktop/avazu-ctr-prediction/train\", parse_dates=['hour'], date_parser=parse_date, dtype=dtype, skiprows=skip_values)\n",
    "test = pd.read_csv(\"/Users/fatmaoztel/Desktop/avazu-ctr-prediction/test\")\n",
    "submission = pd.read_csv('/Users/fatmaoztel/Desktop/avazu-ctr-prediction/sampleSubmission')\n",
    "print('Train dataset:',train.shape)\n",
    "print('Test dataset:',test.shape)\n",
    "print('Submission:',submission.shape)"
   ]
  },
  {
   "cell_type": "code",
   "execution_count": 27,
   "metadata": {},
   "outputs": [
    {
     "name": "stdout",
     "output_type": "stream",
     "text": [
      "<class 'pandas.core.frame.DataFrame'>\n",
      "RangeIndex: 1000000 entries, 0 to 999999\n",
      "Data columns (total 24 columns):\n",
      " #   Column            Non-Null Count    Dtype         \n",
      "---  ------            --------------    -----         \n",
      " 0   id                1000000 non-null  uint64        \n",
      " 1   click             1000000 non-null  int64         \n",
      " 2   hour              1000000 non-null  datetime64[ns]\n",
      " 3   C1                1000000 non-null  object        \n",
      " 4   banner_pos        1000000 non-null  object        \n",
      " 5   site_id           1000000 non-null  object        \n",
      " 6   site_domain       1000000 non-null  object        \n",
      " 7   site_category     1000000 non-null  object        \n",
      " 8   app_id            1000000 non-null  object        \n",
      " 9   app_domain        1000000 non-null  object        \n",
      " 10  app_category      1000000 non-null  object        \n",
      " 11  device_id         1000000 non-null  object        \n",
      " 12  device_ip         1000000 non-null  object        \n",
      " 13  device_model      1000000 non-null  object        \n",
      " 14  device_type       1000000 non-null  object        \n",
      " 15  device_conn_type  1000000 non-null  object        \n",
      " 16  C14               1000000 non-null  object        \n",
      " 17  C15               1000000 non-null  object        \n",
      " 18  C16               1000000 non-null  object        \n",
      " 19  C17               1000000 non-null  object        \n",
      " 20  C18               1000000 non-null  object        \n",
      " 21  C19               1000000 non-null  object        \n",
      " 22  C20               1000000 non-null  object        \n",
      " 23  C21               1000000 non-null  object        \n",
      "dtypes: datetime64[ns](1), int64(1), object(21), uint64(1)\n",
      "memory usage: 183.1+ MB\n"
     ]
    }
   ],
   "source": [
    "train.info()"
   ]
  },
  {
   "cell_type": "code",
   "execution_count": null,
   "metadata": {},
   "outputs": [],
   "source": []
  }
 ],
 "metadata": {
  "kernelspec": {
   "display_name": "Python 3",
   "language": "python",
   "name": "python3"
  },
  "language_info": {
   "codemirror_mode": {
    "name": "ipython",
    "version": 3
   },
   "file_extension": ".py",
   "mimetype": "text/x-python",
   "name": "python",
   "nbconvert_exporter": "python",
   "pygments_lexer": "ipython3",
   "version": "3.11.2"
  },
  "orig_nbformat": 4
 },
 "nbformat": 4,
 "nbformat_minor": 2
}
